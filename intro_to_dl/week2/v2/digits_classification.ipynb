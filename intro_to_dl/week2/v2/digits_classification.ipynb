{
 "cells": [
  {
   "cell_type": "markdown",
   "metadata": {
    "slideshow": {
     "slide_type": "slide"
    }
   },
   "source": [
    "# MNIST digits classification with TensorFlow"
   ]
  },
  {
   "cell_type": "markdown",
   "metadata": {},
   "source": [
    "<img src=\"images/mnist_sample.png\" style=\"width:30%\">"
   ]
  },
  {
   "cell_type": "code",
   "execution_count": 2,
   "metadata": {},
   "outputs": [
    {
     "name": "stdout",
     "output_type": "stream",
     "text": [
      "We're using TF 1.2.1\n"
     ]
    }
   ],
   "source": [
    "import numpy as np\n",
    "from sklearn.metrics import accuracy_score\n",
    "from matplotlib import pyplot as plt\n",
    "%matplotlib inline\n",
    "import tensorflow as tf\n",
    "print(\"We're using TF\", tf.__version__)"
   ]
  },
  {
   "cell_type": "code",
   "execution_count": 3,
   "metadata": {},
   "outputs": [
    {
     "name": "stderr",
     "output_type": "stream",
     "text": [
      "Using TensorFlow backend.\n"
     ]
    }
   ],
   "source": [
    "import sys\n",
    "sys.path.append(\"../..\")\n",
    "import grading\n",
    "\n",
    "import matplotlib_utils\n",
    "from importlib import reload\n",
    "reload(matplotlib_utils)\n",
    "\n",
    "import grading_utils\n",
    "reload(grading_utils)\n",
    "\n",
    "import keras_utils\n",
    "from keras_utils import reset_tf_session"
   ]
  },
  {
   "cell_type": "markdown",
   "metadata": {},
   "source": [
    "# Fill in your Coursera token and email\n",
    "To successfully submit your answers to our grader, please fill in your Coursera submission token and email"
   ]
  },
  {
   "cell_type": "code",
   "execution_count": 4,
   "metadata": {
    "collapsed": true
   },
   "outputs": [],
   "source": [
    "grader = grading.Grader(assignment_key=\"XtD7ho3TEeiHQBLWejjYAA\", \n",
    "                        all_parts=[\"9XaAS\", \"vmogZ\", \"RMv95\", \"i8bgs\", \"rE763\"])"
   ]
  },
  {
   "cell_type": "code",
   "execution_count": 23,
   "metadata": {
    "collapsed": true
   },
   "outputs": [],
   "source": [
    "# token expires every 30 min\n",
    "COURSERA_TOKEN = \"qxjMKMXbcB3H5QK9\"\n",
    "COURSERA_EMAIL = \"iclearn111@gmail.com\""
   ]
  },
  {
   "cell_type": "markdown",
   "metadata": {},
   "source": [
    "# Look at the data\n",
    "\n",
    "In this task we have 50000 28x28 images of digits from 0 to 9.\n",
    "We will train a classifier on this data."
   ]
  },
  {
   "cell_type": "code",
   "execution_count": 5,
   "metadata": {
    "collapsed": true
   },
   "outputs": [],
   "source": [
    "import preprocessed_mnist\n",
    "X_train, y_train, X_val, y_val, X_test, y_test = preprocessed_mnist.load_dataset_from_file()"
   ]
  },
  {
   "cell_type": "code",
   "execution_count": 6,
   "metadata": {},
   "outputs": [
    {
     "name": "stdout",
     "output_type": "stream",
     "text": [
      "X_train [shape (50000, 28, 28)] sample patch:\n",
      " [[ 0.          0.29803922  0.96470588  0.98823529  0.43921569]\n",
      " [ 0.          0.33333333  0.98823529  0.90196078  0.09803922]\n",
      " [ 0.          0.33333333  0.98823529  0.8745098   0.        ]\n",
      " [ 0.          0.33333333  0.98823529  0.56862745  0.        ]\n",
      " [ 0.          0.3372549   0.99215686  0.88235294  0.        ]]\n",
      "A closeup of a sample patch:\n"
     ]
    },
    {
     "data": {
      "image/png": "[encoded data removed]",
      "text/plain": [
       "<matplotlib.figure.Figure at 0x7f45a81518d0>"
      ]
     },
     "metadata": {},
     "output_type": "display_data"
    },
    {
     "name": "stdout",
     "output_type": "stream",
     "text": [
      "And the whole sample:\n"
     ]
    },
    {
     "data": {
      "image/png": "[encoded data removed]",
      "text/plain": [
       "<matplotlib.figure.Figure at 0x7f45abe2a128>"
      ]
     },
     "metadata": {},
     "output_type": "display_data"
    },
    {
     "name": "stdout",
     "output_type": "stream",
     "text": [
      "y_train [shape (50000,)] 10 samples:\n",
      " [5 0 4 1 9 2 1 3 1 4]\n"
     ]
    }
   ],
   "source": [
    "# X contains rgb values divided by 255\n",
    "print(\"X_train [shape %s] sample patch:\\n\" % (str(X_train.shape)), X_train[1, 15:20, 5:10])\n",
    "print(\"A closeup of a sample patch:\")\n",
    "plt.imshow(X_train[1, 15:20, 5:10], cmap=\"Greys\")\n",
    "plt.show()\n",
    "print(\"And the whole sample:\")\n",
    "plt.imshow(X_train[1], cmap=\"Greys\")\n",
    "plt.show()\n",
    "print(\"y_train [shape %s] 10 samples:\\n\" % (str(y_train.shape)), y_train[:10])"
   ]
  },
  {
   "cell_type": "markdown",
   "metadata": {},
   "source": [
    "# Linear model\n",
    "\n",
    "Your task is to train a linear classifier $\\vec{x} \\rightarrow y$ with SGD using TensorFlow.\n",
    "\n",
    "You will need to calculate a logit (a linear transformation) $z_k$ for each class: \n",
    "$$z_k = \\vec{x} \\cdot \\vec{w_k} + b_k \\quad k = 0..9$$\n",
    "\n",
    "And transform logits $z_k$ to valid probabilities $p_k$ with softmax: \n",
    "$$p_k = \\frac{e^{z_k}}{\\sum_{i=0}^{9}{e^{z_i}}} \\quad k = 0..9$$\n",
    "\n",
    "We will use a cross-entropy loss to train our multi-class classifier:\n",
    "$$\\text{cross-entropy}(y, p) = -\\sum_{k=0}^{9}{\\log(p_k)[y = k]}$$ \n",
    "\n",
    "where \n",
    "$$\n",
    "[x]=\\begin{cases}\n",
    "       1, \\quad \\text{if $x$ is true} \\\\\n",
    "       0, \\quad \\text{otherwise}\n",
    "    \\end{cases}\n",
    "$$\n",
    "\n",
    "Cross-entropy minimization pushes $p_k$ close to 1 when $y = k$, which is what we want.\n",
    "\n",
    "Here's the plan:\n",
    "* Flatten the images (28x28 -> 784) with `X_train.reshape((X_train.shape[0], -1))` to simplify our linear model implementation\n",
    "* Use a matrix placeholder for flattened `X_train`\n",
    "* Convert `y_train` to one-hot encoded vectors that are needed for cross-entropy\n",
    "* Use a shared variable `W` for all weights (a column $\\vec{w_k}$ per class) and `b` for all biases.\n",
    "* Aim for ~0.93 validation accuracy"
   ]
  },
  {
   "cell_type": "code",
   "execution_count": 7,
   "metadata": {},
   "outputs": [
    {
     "name": "stdout",
     "output_type": "stream",
     "text": [
      "(50000, 784)\n",
      "(10000, 784)\n"
     ]
    }
   ],
   "source": [
    "X_train_flat = X_train.reshape((X_train.shape[0], -1))\n",
    "print(X_train_flat.shape)\n",
    "\n",
    "X_val_flat = X_val.reshape((X_val.shape[0], -1))\n",
    "print(X_val_flat.shape)"
   ]
  },
  {
   "cell_type": "code",
   "execution_count": 8,
   "metadata": {},
   "outputs": [
    {
     "name": "stdout",
     "output_type": "stream",
     "text": [
      "(50000, 10)\n",
      "[[ 0.  0.  0.  0.  0.  1.  0.  0.  0.  0.]\n",
      " [ 1.  0.  0.  0.  0.  0.  0.  0.  0.  0.]\n",
      " [ 0.  0.  0.  0.  1.  0.  0.  0.  0.  0.]] [5 0 4]\n"
     ]
    }
   ],
   "source": [
    "import keras\n",
    "\n",
    "y_train_oh = keras.utils.to_categorical(y_train, 10)\n",
    "y_val_oh = keras.utils.to_categorical(y_val, 10)\n",
    "\n",
    "print(y_train_oh.shape)\n",
    "print(y_train_oh[:3], y_train[:3])"
   ]
  },
  {
   "cell_type": "code",
   "execution_count": 9,
   "metadata": {
    "collapsed": true
   },
   "outputs": [],
   "source": [
    "# run this again if you remake your graph\n",
    "s = reset_tf_session()"
   ]
  },
  {
   "cell_type": "code",
   "execution_count": 11,
   "metadata": {
    "collapsed": true
   },
   "outputs": [],
   "source": [
    "# Model parameters: W and b\n",
    "W = tf.get_variable(name='W', shape=(784,10)) ### YOUR CODE HERE ### tf.get_variable(...) with shape[0] = 784\n",
    "b = tf.get_variable(name='b', shape=(10)) ### YOUR CODE HERE ### tf.get_variable(...)"
   ]
  },
  {
   "cell_type": "code",
   "execution_count": 13,
   "metadata": {
    "collapsed": true
   },
   "outputs": [],
   "source": [
    "# Placeholders for the input data\n",
    "input_X = tf.placeholder(shape=(None,784), dtype='float32')### YOUR CODE HERE ### tf.placeholder(...) for flat X with shape[0] = None for any batch size\n",
    "input_y = tf.placeholder(shape=(None, 10), dtype='float32')### YOUR CODE HERE ### tf.placeholder(...) for one-hot encoded true labels"
   ]
  },
  {
   "cell_type": "code",
   "execution_count": 20,
   "metadata": {
    "collapsed": true
   },
   "outputs": [],
   "source": [
    "# Compute predictions\n",
    "logits = input_X @ W + b ### YOUR CODE HERE ### logits for input_X, resulting shape should be [input_X.shape[0], 10]\n",
    "probas = tf.nn.softmax(logits) ### YOUR CODE HERE ### apply tf.nn.softmax to logits\n",
    "classes = tf.argmax(probas, axis=1) ### YOUR CODE HERE ### apply tf.argmax to find a class index with highest probability\n",
    "\n",
    "# Loss should be a scalar number: average loss over all the objects with tf.reduce_mean().\n",
    "# Use tf.nn.softmax_cross_entropy_with_logits on top of one-hot encoded input_y and logits.\n",
    "# It is identical to calculating cross-entropy on top of probas, but is more numerically friendly (read the docs).\n",
    "loss = tf.reduce_mean(tf.nn.softmax_cross_entropy_with_logits(labels=input_y, logits=logits)) ### YOUR CODE HERE ### cross-entropy loss\n",
    "\n",
    "# Use a default tf.train.AdamOptimizer to get an SGD step\n",
    "step = tf.train.AdamOptimizer().minimize(loss) ### YOUR CODE HERE ### optimizer step that minimizes the loss"
   ]
  },
  {
   "cell_type": "code",
   "execution_count": null,
   "metadata": {
    "scrolled": false
   },
   "outputs": [
    {
     "data": {
      "text/html": [
       "<img src=\"data:image/jpeg;base64,/9j/4AAQSkZJRgABAQAAAQABAAD/2wBDAAIBAQEBAQIBAQECAgICAgQDAgICAgUEBAMEBgUGBgYFBgYGBwkIBgcJBwYGCAsICQoKCgoKBggLDAsKDAkKCgr/2wBDAQICAgICAgUDAwUKBwYHCgoKCgoKCgoKCgoKCgoKCgoKCgoKCgoKCgoKCgoKCgoKCgoKCgoKCgoKCgoKCgoKCgr/wAARCAEgA2ADASIAAhEBAxEB/8QAHwAAAQUBAQEBAQEAAAAAAAAAAAECAwQFBgcICQoL/8QAtRAAAgEDAwIEAwUFBAQAAAF9AQIDAAQRBRIhMUEGE1FhByJxFDKBkaEII0KxwRVS0fAkM2JyggkKFhcYGRolJicoKSo0NTY3ODk6Q0RFRkdISUpTVFVWV1hZWmNkZWZnaGlqc3R1dnd4eXqDhIWGh4iJipKTlJWWl5iZmqKjpKWmp6ipqrKztLW2t7i5usLDxMXGx8jJytLT1NXW19jZ2uHi4%2BTl5ufo6erx8vP09fb3%2BPn6/8QAHwEAAwEBAQEBAQEBAQAAAAAAAAECAwQFBgcICQoL/8QAtREAAgECBAQDBAcFBAQAAQJ3AAECAxEEBSExBhJBUQdhcRMiMoEIFEKRobHBCSMzUvAVYnLRChYkNOEl8RcYGRomJygpKjU2Nzg5OkNERUZHSElKU1RVVldYWVpjZGVmZ2hpanN0dXZ3eHl6goOEhYaHiImKkpOUlZaXmJmaoqOkpaanqKmqsrO0tba3uLm6wsPExcbHyMnK0tPU1dbX2Nna4uPk5ebn6Onq8vP09fb3%2BPn6/9oADAMBAAIRAxEAPwD9/KKKKACiiigAooooAKKKKACiiigAooooAKKKKACiiigAooooAKKKKACiiigAooooAKKKKACiiigAooooAKKKKACiiigAooooAKKKKACiiigAooooAKKKKACiiigAooooAKKKKACiiigAooooAKKKKACiiigAooooAKKKKACiiigAooooAKKKKACiiigAooooAKKKKACiiigAooooAKKKKACiiigAooooAKKKKACiiigAooooAKKKKACiiigAooooAKKKKACiiigAooooAKKKKACiiigAooooAKKKKACiiigAooooAKKKKACiiigAooooAKKKKACiiigAooooAKKKKACiiigAooooAKKKKACvPfjt%2B1J8FP2b5NGsfil4g1Maj4ilnTQNB8OeF9R1zVNR8lVed4bHTbee5kjiVkMkixlI96biu5c%2BhV4N%2B0P8D/j5/wANJ%2BDv2tv2bLLwfrWueH/B2seFNX8KeOdcutLtLywv7mwuxcQXtraXj288U2noCpt3WVJSCUKK1ABpf/BTL9izWLvxPb2nxXv0h8FWsk/jLUrvwXrEFjoIS0iu9l5dy2iwWsrQzRskMjrJIWKorMrKL2n/APBQ/wDZK1HwBrXxFTx/q9vB4f1ay0vVdE1DwNrNrrkV5ebfscC6PNaLqEr3AYGER27eaAxTcFYjy2b9gH4y%2BMf2a/jn8NfGHinwppHin4o/FS38daHc6U1xeWFpeW0OiywQ3IkihkkiN3pRRwoyYHGDuJVaPi79i/8AaV%2BLmr/Ef45fG34S/CjWvFnjWx8KaPp/gKy%2BI2s2Wm6fY6Hcaldw3qa7b6al5DqDXOqTOksVoPJSKNFZiWcgHsviH9vv9mzwv4a8OeI9XvvG3meK0v5NE8P2vwm8SXGuSRWUscV3NJpMWntf28MLzQq8s0CIpmiy37xM%2Bmaz8RPBHhv4e3XxX8T%2BJbbSvDljo76rf6vqrfZYbSySIzPPMZdvlKsYLNvxtAOcYNfGHin9hH9s/WPgX4X8Nay3hfxV470a58RHRfGV/wDHbxNpGr%2BCLW%2BuUktLO11q1sJLzXIYkjhEy3qw/aTbReYCFGPUfjR/wTotfj1%2Bzb4n%2BHHxD%2BOfjW78d%2BMPhfH4Z17xS3jbWho818tpDE2oJoS3y2FuzzQLK3kRRSEPIBIrSM5AOkg/4KUfsZf8K58V/FbWPite6Jo3giysr7xQ/ifwdq%2Bk3NlZXkxhtb37LeWsVxJaSyK6pcxxtC3luQ%2BEYjj/AI3f8FZP2d/hn8ENU%2BMfgPRfFXiqbQfiD4X8L674Y/4QXXbHU7A6zqVrax3T2cmnNdeV5Fw88DeT5d48aW8MhknjB8r1T/gmJ8ZPHfwq8faR4i8DeG9G8Y%2BI9D0fR7DxDqv7RfjPxut3aWusW%2BoTRyf27AfsEZ8likUSzHe%2BGkxknv8A9qH9gz40/GD4g/F/4g%2BBfEPheOTxfB8LbzwlZ6tfXMSvf%2BE/EdzrUsN40dvJ5ENwGt4VljEzrl2MfyKrgHqFh/wUE/Zb1H4m2XwZh8T%2BJo/Fd5oun6xLoF38N9egudO0%2B9adILu/SSyU6dDut5VeS68pYiFEhQum6j4a/wCCmH7FPi3wZ4s%2BIWkfGC4TR/Bfgi68Zaxe6h4S1W0Fx4et0Z5tWsVntUbVLNVQ4nsxPGxZArEugbB0P9kP4ofEP4mfG74g/G9fD2gxfGj4O%2BHfCF1Y%2BE9duNRl0u4tE11Ltlnns7XzYwNViMT7FZikm6OPA3fN37Y37Kn7UOj/ALDHxS%2BJv7TF34AtIfhD%2BxT8QfBHhePwFqF5cNrzXukWxn1G6W5toBYqE0i3CWcbXAVppCZ22oKAPrPw9/wUl/Yy8TaHrHiPT/i1dQWehppU1/JqnhLVbJmtNSu1s7HUIUuLVGubCWdgovoQ9qoDO0qorMPT9E%2BLvw88R/FLX/gvofiH7T4k8LaXp%2Boa/YR2k22zgvmuBa7pinlF3%2ByzHy1cyKoRmVVkjLfJOofsz%2BIPFegeKfjb/wAFIvF/wz8J%2BBbf9nu5%2BHUlx4f8QTLay6beyQyXmq3k17BbpYOTBbCG2QzCAmT/AEiQsuOw/wCCPngP4u2f7I9r8f8A9pDUDf8AxJ%2BL15H4n8V6g9nJbtJCLSCy01fKl%2BeH/iX2lpI0TYKSzTZAYtkA%2BqqKKKACiiigAooooAKKKKACiiigAooooAKKKKACiiigAooooAKKKKACiiigAooooAKKKKACiiigAooooAKKKKACiiigAooooAK8R0j/AIKMfse6ld69Z6n8Urzw83hzw5c%2BINQk8a%2BEdV0GObSbd0jnv7WTUrWBb63R5IlaW2MqAyxjOXXPtN7FczWcsNndCCZ4mWKYx7/LYjhtp64POO9fmJq//BHL9uX4v6t4X1z43fHHQ31vw14P1Cz1DxRqHxW8TeJx4h1v7ZpV9a6idLvoobLSbaS50xfPsLIBRHJtWWQKgUA%2B2X/b/wD2YbX4aN8WNY8QeKtK0ttcg0axs9c%2BGWv2GqanfzIZIYLLTbixS9v2kQM6/Z4ZAyo7AkIxHReA/wBqz4H/ABH1%2By8J%2BHPEOqQ6vf8AhSfxJDpGteFdS0y7TTYbv7JLLLDeW8UkDrP8hhkVZe%2BzbzXk3xO%2BDn7bvxib4e/G3XPBvwq0P4h/Cjx1NrHh/wAM2vjjUr/Rdcs7jSbvTLmO4vn0qGaxmKXskkbpa3AjMQU%2BYJGxV%2BJPwG/bg1/4y%2BHf2mvA%2BjfCu08WX3ww1XwX4x0LUvFepSWGkLcX8N1a39lcJpwk1AxCN1kt5YrQSlxiWLHIB3Gk/wDBRv8AZA8R694F8LeFfiNqus6n8SfBuleLfBunaJ4H1m9nvND1F9lrqMiQWjNa2%2B7HmSTiNbcMpm8oMCdj4a/tufs3fFf4jXPwn8M%2BL9Ws9ft9LudThsvE/gzVtEW/sbeRI57uyl1G1gjv4I3liDy2zSIvmISQGUnyj9hT9hL4sfsw6/8ADjWfHniDw1dnwd%2Byl4R%2BGN%2B%2BkXM8rNq2lvM1zNF5kEe61bemxmKu235o0wK8a%2BGn/BKv9sbxP8UfC/ib9qb4w2eqRaf4A8V%2BF/GniaD4v%2BJNavPEUur2KW39p2umX0Men6EcqWNpaKUXKgTOI1WgD6l8J/8ABRf9kfxrosfirQfHeuf2Hcarpen6f4lvfh/rdrpWoy6lex2VlJaX09mlteQS3M0UYuIJHhBlQs4VgT6X4W%2BLvw88a/EDxT8LvC/iH7XrnguSzj8T2iWkwWxkuoPtEEZlZBG7tCVkKIzMiyRlgokTd8w%2BOPAnxF8K/wDBPbxp8CP%2BChnif4VeCPAWg/DSLQLb4meHfFt2GadI0trXUntLqzgTTZlmFvJDBHcXTGcoiOTtDdr/AMEr/h98WPDf7ImlfFX9oqwS3%2BJ3xYvpfHXxEhW3aL7Pf36xmG02N8yfZbGOys9pyQLXBoA%2BjaKKKACiiigAooooAKKKKACiiigAooooAKKKKACiiigAooooAKKKKACiiigAooooAKKKKACiiigAooooAKKKKACiiigAooooAKK89/autPgHe/s7%2BK7f9qCTwuvgQ6bnXz41ngj0vaJFMQuGuCItpmEYAc4LbRznFfOH7K/7SX7Ds3/BG/4ea78bfip4H1/wN4b%2BAOgzeObA6lb6jEsFpYWsNxBNbxs5kK3CiBoSpJlPlFSx2kA%2B0a8X%2BPXj/wDaL/4aL8C/Aj4C%2BM/BXh9Nf8FeJde1fU/F/gu71ok6dd6Hbwwwx2%2BpWPlhv7UlZmZnz5aABeSeM/4JTj4caj8AvEPjj4Ta34Mh0DxR48u9W03wP4B12zv9M8DwyWtokejq1k728U%2ByNby4hiPlpc38%2BwuhWR5de8YfE6P/AIKqfDzwx498GeHtO0W4%2BDfj4eFNS0rxNPeXeoBNV8INIbm3ksoEtGAxhUmuA2WyybRuTaitS4U51HaK6N/crv8AA7D/AIQf/goX/wBHQfBn/wAMPq3/AM1FH/CD/wDBQv8A6Og%2BDP8A4YfVv/mor2aimQeM/wDCD/8ABQv/AKOg%2BDP/AIYfVv8A5qKP%2BEH/AOChf/R0HwZ/8MPq3/zUV7NRQB4z/wAIP/wUL/6Og%2BDP/hh9W/8Amoo/4Qf/AIKF/wDR0HwZ/wDDD6t/81FezUUAeM/8IP8A8FC/%2BjoPgz/4YfVv/moo/wCEH/4KF/8AR0HwZ/8ADD6t/wDNRXs1FAHjP/CD/wDBQv8A6Og%2BDP8A4YfVv/moo/4Qf/goX/0dB8Gf/DD6t/8ANRXs1FAHjP8Awg//AAUL/wCjoPgz/wCGH1b/AOaij/hB/wDgoX/0dB8Gf/DD6t/81FezUUAeM/8ACD/8FC/%2BjoPgz/4YfVv/AJqKP%2BEH/wCChf8A0dB8Gf8Aww%2Brf/NRXs1cZ8Q/E/ww8GT6p4y%2BMviTQtJ0DSdMs2m1TxNew29laNNPLEC0k5EaF38pASRklVHJxSlKMIuUnZI0o0a2IqxpUouUpNJJJttvRJJJttvZJNvomcZ/wg//AAUL/wCjoPgz/wCGH1b/AOaij/hB/wDgoX/0dB8Gf/DD6t/81FV/%2BGv/APgnB/0dF8Ef/C20f/47R/w1/wD8E4P%2Bjovgj/4W2j//AB2uX6/gP%2Bf0P/A4f/JHuf6pcWf9C7Ef%2BE9f/wCUFj/hB/8AgoX/ANHQfBn/AMMPq3/zUUf8IP8A8FC/%2BjoPgz/4YfVv/morpfhd8Q/2VPjj9u/4Ur45%2BH3jD%2By/K/tP/hFtTsdQ%2ByeZv8vzfIZvL3eXJt3Y3bGxnBrjvij%2B0l8BPhD%2B0v4a/Zo8W/CnVHvPEvg3UvEUWt6X4EvL6ytIbO6s7dknltrWRIgftW5pHZUiCKJCpmh39EKlOrHmg013TTX3ptfiePisJi8DXdDE05U5reM4yhJXV1eMoxkrrVXirrVaalz/AIQf/goX/wBHQfBn/wAMPq3/AM1FH/CD/wDBQv8A6Og%2BDP8A4YfVv/morAsP23v2HtU%2BEem/Hyx07XJPBOqwvcWfiofBnXvsP2NIILhr%2BSb%2BztsNj5VxG4vZCtuQsuJD5Muyz4w/az/ZO%2BGvirWfCnxBtdPS7svHcXhPSrDw54Q1LWb6/wBRfQIdc%2Bzi2tNPZjL9jkeUCEzoY0UmQSM8EdnOa3/CD/8ABQv/AKOg%2BDP/AIYfVv8A5qKP%2BEH/AOChf/R0HwZ/8MPq3/zUV1Hwy8a/s3/GPQNH8S/DW%2B8M6rb6/oUes6THFaxpcTWDnas5gdVlRd3yHeqlXBRgGBA8lsP2qtEvPj/D4Cf9m7RE8BXnxIufAFl44GqobuTXoNOkvZA2n/ZNq2e%2BCa0E/wBpMhuEA8gRsJaAOy/4Qf8A4KF/9HQfBn/ww%2Brf/NRR/wAIP/wUL/6Og%2BDP/hh9W/8Amorjf2m/2qtE%2BAPj3X9B0D9m7Q/EOhfD3wZp3i34p63PqqWUuj6Pe3d5bxyWduLSUX8yJp1/PJE8luFjgXDs0irVx/2jdD0f9tDT/wBkfxN8JPhvNJrNteXVi/hnxmuoa1ptpBB5y3uq6W2nxf2fay48pJhcTAzSQpg%2BYSoB03/CD/8ABQv/AKOg%2BDP/AIYfVv8A5qKP%2BEH/AOChf/R0HwZ/8MPq3/zUV5FoH/BQXwR410nx9q3gj9l7TbtNH8Z%2BHfD3w1a61OKFPGP9tSxw2d%2BzC1f7DZsztOJALhmtFWZULuIK2dY/ah8exfAjxD8YdA/ZD%2BH73fw7u/EFt8VdK1r4gCxg0l9KAkP2K5GlSC9WeA%2BfG0yWihGXzTExKqAeif8ACD/8FC/%2BjoPgz/4YfVv/AJqKP%2BEH/wCChf8A0dB8Gf8Aww%2Brf/NRXmHiX9uzwDonjsrH%2BzvoVv4J03WPB2keJtc13V47HV7O%2B8SvbJp6waZ9ldbiJHvLZZna4hKkXARJTAwO/on7SR1H9rPxB%2ByK/wAEPhffeILDw3qWsabH4Z8fDULixSB7YWaa7b/2ZG2im8S7ieIg3W4JNt3hAWAOw/4Qf/goX/0dB8Gf/DD6t/8ANRR/wg//AAUL/wCjoPgz/wCGH1b/AOaivDD/AMFJfAlr8I/FHxCvfgx8Krg%2BGPiBpvha68U6L8So7vwRDJdwrIbi58QHTE%2BzJAWEM4Nq3lzSwRknzcoln/wUc8N69dfB7S9G%2BBvwj0e4%2BLGh6/qFnd%2BPfimmj2E/9m6rZ6ci6XcLpU51ZbwXYurVgkBltwj7Rv2qAe6f8IP/AMFC/wDo6D4M/wDhh9W/%2Baij/hB/%2BChf/R0HwZ/8MPq3/wA1Fcbr37VWiaP8fLzwJF%2Bzdoc3gPSPiPpvgHWvGx1VFu4NfvrC3u4BHp/2QrLabr2ztmn%2B0q6zTMBCyRtJXlfgP/gqf4A8aeFviD4rh/Zf8M3a%2BB/BNz4iudL8O%2BKotQv9GaK9%2By/2d4hg%2BwxnQrz78zRZudkVrdtk%2BQBIAfQ3/CD/APBQv/o6D4M/%2BGH1b/5qKP8AhB/%2BChf/AEdB8Gf/AAw%2Brf8AzUV5H4b/AOCgnw4139lnxf8AH6y%2BBngzX9U0PxZP4a8Jaf4C8Vw6xo3jTUFsYbxW03VfscXm20ayTrcz/Z/9GOnXx2yC3JbZ%2BI37bXw88E%2BFfgvqmi/s7adrOq/Fa68Ly6xpcN3FGnhfTNZvbKxW9ll%2Bzt5xW6v4Y44dsbXHlzspUQSFQD0P/hB/%2BChf/R0HwZ/8MPq3/wA1FH/CD/8ABQv/AKOg%2BDP/AIYfVv8A5qK5Kb9o%2BCw/bAP7I118Fvhjfapf6VqF/pEXh7x2L3U7GGCJZILjWbD%2BzUbSrafesaTrJcDzHRQr7sjj7/8Abgv/AIb2Pxbn%2BPn7LXw90Vvhlq3hrQrW88O%2BPvt9hqOuayYvLsp7m80qyFikEd5p0805WRUhvC%2BP3RDAHrv/AAg//BQv/o6D4M/%2BGH1b/wCaiqHgfxx%2B1Z4O/as8OfBH43fEf4e%2BJtG8TfD3xDrkM3hX4eX2i3VpdabfaJborPcavfJLG6apKSoRGDRIQ2Mg7Pwi8UaX8WP2fv8Ahbb%2BH/h5FdXFndzWOofDXxYuvaY4jLhJbfUBaWplOV%2Bb90u1gy5bGTV8cf8AKQv4X/8AZGfHn/p28IUAezUUUUAFFFFABRRRQAV84/CbxV%2B3f8ddH17x34X%2BN/wk0DS7f4heKtD0vSr/AOD%2BqX9xFa6Xr1/pkLS3CeIoFlkeOzV2ZYo13OQFAAr6OrwT9kIeZ%2BzrrduxOyb46ePIpQDjcj%2BPtWVl%2BhUkH2NAGr/wg/8AwUL/AOjoPgz/AOGH1b/5qKP%2BEH/4KF/9HQfBn/ww%2Brf/ADUU/X/2oP8Agn74U1298LeKf2iPg5pup6bdyWuo6dqHi7SoZ7WeNikkUkbyhkdWBVlYAgggjIqp/wANf/8ABOD/AKOi%2BCP/AIW2j/8Ax2uV47Ap2dWH/gcf/kj3ocK8U1IKcMvxDTSaaoV2mnqmmqDTTTTTTaaaabTTLH/CD/8ABQv/AKOg%2BDP/AIYfVv8A5qKP%2BEH/AOChf/R0HwZ/8MPq3/zUU/QP2oP%2BCfvivXbLwt4W/aI%2BDmpanqV3Ha6dp2n%2BLdKmnup5GCRxRxpKWd2YhVVQSSQAMmr37VfxL%2BFX7KH7N/jX9pLxT8Ll1bT/AAV4euNVutN0jRBNcXKxLnYixxsRk4y5G1Fy7lVVmGtKvQrpunNSt2af5Nnn47K8zyucYY3D1KTkrpVITptra6U4QbV9LpNX0vfQzv8AhB/%2BChf/AEdB8Gf/AAw%2Brf8AzUUf8IP/AMFC/wDo6D4M/wDhh9W/%2BaiqGk/tZ/sf6543l%2BGul%2BGtfl8Q23hxde1DRf8AhTWurdafYPHdvFLdRtp4a1aX7DcrFHMEkmeMRxq7uis7TP2nP2YPE0nh3/hFdMsEOs%2BOpvCt7YeJfCWo6PqNjfR6NdauYWsrmwEySm1t1mVbhbeN4ZPMWVmMUc2pwl3/AIQf/goX/wBHQfBn/wAMPq3/AM1FH/CD/wDBQv8A6Og%2BDP8A4YfVv/moqh8FP2v/ANhf9oLRpvEfw28TaX/Z0Xh/T9dS/wDEXhG70WC50u%2BZltb2CTUbaBbm3kdSgliLqHwhIYgVd/aN%2BIjfCvX/AAf8NPhB8APDXi7xn42vbxNK0vWtVXSLGC1s7Vri5uZ7pLO6dAP3MSqsLlpLiPOxA7qAO/4Qf/goX/0dB8Gf/DD6t/8ANRR/wg//AAUL/wCjoPgz/wCGH1b/AOaiue1/9qT4WwfsW%2BGv2v8Awn8FLK8Hi8eHbfRvDuqGCz8i/wBYv7TT4ILu5Eci28cVzeIs0qrJtWOQosh2q3FWv7bi%2BIr6y%2BFngn9mbwFefEpPF3iDQPEWjX3jlbbQtOn0e1t7u52aoNNeSdmgvLR0jNpG3zTeZ5Qgc0Aerf8ACD/8FC/%2BjoPgz/4YfVv/AJqKP%2BEH/wCChf8A0dB8Gf8Aww%2Brf/NRXnV/%2B2HZXfwg%2BHP7VPgf9mbwrqnwm8f2nhWRNZuPEyQa5DLrt3b2sEUGmrYyQ3Jie7g3g3cbMPMEauVUPo%2BCf2r/AA/4p%2BNmneE9T/Zy0LT/AAH4k8e%2BIvBPhHxr/a0cl1e67okd899HPYG0Vba3zpWqrHMLiRmNl80cYkU0Adp/wg//AAUL/wCjoPgz/wCGH1b/AOaij/hB/wDgoX/0dB8Gf/DD6t/81FYf7IH7SXgH9rnxB8QYNG%2BBVho2i%2BE9dtLbw3rFw0UreItOubKK6t9SEQhX7PHMkm%2BJS0haFopGKM5jT23wYNmhmBSdkN9dxRAnO1EuZFVfoFAA9hQB5d/wg/8AwUL/AOjoPgz/AOGH1b/5qKP%2BEH/4KF/9HQfBn/ww%2Brf/ADUV7NRQB4z/AMIP/wAFC/8Ao6D4M/8Ahh9W/wDmoo/4Qf8A4KF/9HQfBn/ww%2Brf/NRXs1FAHjP/AAg//BQv/o6D4M/%2BGH1b/wCaij/hB/8AgoX/ANHQfBn/AMMPq3/zUV7NRQB4z/wg/wDwUL/6Og%2BDP/hh9W/%2Baij/AIQf/goX/wBHQfBn/wAMPq3/AM1FezUUAeM/8IP/AMFC/wDo6D4M/wDhh9W/%2Baij/hB/%2BChf/R0HwZ/8MPq3/wA1FezUUAeM/wDCD/8ABQv/AKOg%2BDP/AIYfVv8A5qKP%2BEH/AOChf/R0HwZ/8MPq3/zUV7NRQB4z/wAIP/wUL/6Og%2BDP/hh9W/8Amoo/4Qf/AIKF/wDR0HwZ/wDDD6t/81FezUUAeM/8IP8A8FC/%2BjoPgz/4YfVv/moo/wCEH/4KF/8AR0HwZ/8ADD6t/wDNRXs1FAHjP/CD/wDBQv8A6Og%2BDP8A4YfVv/moo/4Qf/goX/0dB8Gf/DD6t/8ANRXs1FAHjP8Awg//AAUL/wCjoPgz/wCGH1b/AOaij/hB/wDgoX/0dB8Gf/DD6t/81FezVl%2BKvHPgrwLZf2n428YaXo1tjP2jVdQjt0/76kYClKUYq8nZGlKlVr1FCnFyk9kk236JJt/JM8t/4Qf/AIKF/wDR0HwZ/wDDD6t/81FH/CD/APBQv/o6D4M/%2BGH1b/5qKx/iP/wVN/4J5fCoP/wlX7W3g%2BZ4/vxaDfnVXB9Ntkspz7Yrhx/wV2%2BH3jE7P2ff2TPjl8Rkf/Vaj4f%2BHssViR2LTXDJtB91rzamc5VSlyutFvsnzP7oqTPs8H4a8f42iq8MsrRpv7dSHsYf%2BB15UI/i/Q9Q/wCEH/4KF/8AR0HwZ/8ADD6t/wDNRVv9lb4jfGnxhrHxQ8CfHTX/AAvq2qeAfiFFodnqvhPw1c6Tb3VrLoOj6mrPb3F7eMsiyajKhYS7SsaHapznyX/hs/8A4KN%2BL/l%2BG3/BKXU7aF/u33jH4n6dYbPQtBtLn6A10X/BOvWfjJ4g1v486x%2B0B4N0nw/4un%2BM0B1bR9D1E3drbAeEfDYiCSkDeTCI2b0ZmA4Fa4bMKGLm401La93CUV98krnBnfCGa8P4WNfGVKGr5eSniaFWotG7uFGpUcVpZttWbS6n0nRRRXcfLhRRRQAUUUUAFFFFABRRRQAUUUUAFFFFABRRRQAUUUUAFFFFABRRRQAV8m/tO%2BI/7D/4K8fsoaZ5m3%2B2PAPxPs8Z%2B9tj8PXGP/IGfwr6yr4W/wCCiOuf8Ix/wVr/AGIdc37d0vjuxzn/AJ%2BYNGgx%2BO/FcWYVPZYVz7OP/pcF%2Bp9LwjhFj88jh7fFTr29Vh8RJfjA%2B6aKKK7T5oKKKKACiiigAooooAKKKKACiiigArlPF3gHwJ8ULzWvA3xL8FaT4i0S%2B0qw%2B26PrumxXdrcbLi4kTfFKrI%2B10VxkHDKCOQK6uvPvjR8c/hZ%2BzXoPiT41/GvxT/YvhnRdK0z%2B09T%2Bwz3Pk%2BddzQR/u4EeRsyyxr8qnG7JwASM60qUaUpVbcqTve1rdb30t3voNYp4F/WVU9m4e9zJuLjbXm5k0423ummt7ox/wDhgf8AYV/6Ms%2BEv/hudM/%2BMUf8MD/sK/8ARlnwl/8ADc6Z/wDGK8k/4fm/8Esv%2Bjov/LJ1z/5Co/4fm/8ABLL/AKOi/wDLJ1z/AOQq8P69wr/z8of%2BU/8AI0/4ilif%2Bh7P/wALKv8A80H0P8LvgH8Cvgd9u/4Ur8FvCXg/%2B1PK/tP/AIRbw5a6f9r8vf5fm%2BRGvmbfMk27s7d7Yxk1x3xv/Zq8W/Ev43eGfjR4J%2BJmnaHLpPg3XfCut6fqnhuTUFv9N1ObTp5DC6Xduba4jfTo9sjCZCsrgxk7WEn7Ln7c/wCyz%2B2j/bv/AAzR8Uf%2BEl/4Rr7L/bX/ABJL6z%2BzfaPN8n/j6gi37vIl%2B7nG3nGRmx8cv2vPhV%2BztrOqaT8TrbVbVNL%2BG2seNvtsNtG8V3YaY8C3sMP7wM9yn2m2IjKgMLhNrE7gvsYWeFqUFLDOLh05bcu%2Btrab/iZyzWWdP65Ku67n9tzdRytp8cpTbta2sna1tLWPA/2lP%2BCR7ftBfALwF8BpfjF4cNp4N%2BDlz4Bkl8W/DRNcgVpbS0txrWn20l7HHYajGLU7Jm%2B0bUlZQByx9E8JfsC/8Iv8cNO%2BMz/Fj7SbD4oxeMf7OOhbfMKeBY/Cf2XzPPOM7PtfmbT97ydn/LWtGL/goZ8GbX9q7Qv2OfFWiahofi/xJGBpEF/r2hSvJcf2a%2BpNbyWdtqMt/AVghn/ey2yQF4Sqytvi8zzn4Af8FPj4v%2BDfgfxh8SfBd9q/i/xf8Jvhzr9v4O8EaFFG1/rHiW21CY21nNeagEMa/wBn3EhW4MK28UBZrifeRF0CPdf2Y/gT4i/Zy%2BGWi/CT/hO7LWdJ0i1ux5n9hvb3EtxNezXHmb/tDqsapL5fl7CSV3bwDsHC2H7Dmt2fx/h8ev8AGKB/AVn8Sbnx/ZeBx4aIu49en06Syk3ah9p2tZ755rsQfZhILhwfPMaiKtj9jD9qnXf2k/Ad54k8b%2BB7/QdSPj3xZo1ppZ0OdfsdvpOrzWKx3kqNNBFc7UTd%2B92TOJGh3IpxxPxX/bG%2BNnhH42%2BJJ/DGm%2BFj8O/AHxL8HeBvFVhfabcvrGo32vSaan2u2uVuVht4rYa1p7mJ4JmmCXADxkJkA0fjx%2Bwr49%2BOuvalqt98dtL0y38feAtL8IfGSxtfBUjpr%2Bm2V1d3AGnlr7OlvINR1CFmk%2B2fup0AG%2BJXOv8AE/8AZA8d/tB/FTTdZ/aB%2BLeiar4H0G51mTRPC3hzwjc6TqMsWo6Zd6XJb3mpjUZWmiW1vZuIIbYmVIJdwaFQan7Xn7RP7QHgP4gQfC79nC18Irqen/DXXfG%2Bs3HjLTbm6huoLCS1ih02EW9xAYJLh7iTN0xlWAQj9xMZML5Xa/8ABTD4reJv2oPDfgfwv4d0e18IeINf8MWNlZaj4R1GSS5s9W0aHUDdya/HcDTdPuo3maJNKnia6uBCjRnF3CQAdLZf8EnfAvgrUPG2u/CT4yeKtM1DXdX8Lar4SfxN4j1nxFDoF3ocsU1uJI9R1KQ3cUjReW6hoXWCR4o5EyrKeOv%2BCd/xy8UeCtD8Kaf%2B0/4WZbj4gal4z%2BKNhr/wwubzS/GWpzSxyWcLW0OsW8lvY2hjTbavNOJvIt/Odwkgl2fA/wC0Z%2B0prP7S/jj9mPU/E/he6u9L8E3Gs6T4if4Ra3pEOnXK3aQxwi2u9QZvEUJSQs9xYSxRo8SxsVa4jC8DrP7dX7WN3%2Bwx8aP2hPBE/gceIvg7r2oj7Z4m%2BG%2Bs6VFrmnWej29%2B4k0S6v47/SbhpbgwKLmZt0cS3SxtHcRLQB6p8cv2Gpf2jPjB4P8AiF8U9U%2BHdxY%2BGbnSL65uLX4WBfEVxdWF2l6sMGry3sjWlhJdRRO9qIHdkEkZnIkY1pXv7Nf7QXiX42w/G/xl%2B0H4WlvvDWga7p3w9t9H%2BHE1oLJ9RMO2TUnfVJTqKRC2hPlRfY0kYFjgiPy%2BQ/bI/bF%2BNvwT8X%2BP5PhTpnhZ9B%2BC3witPiP8Q4PEGm3Nxd6zp09xqiiysJIbmJLSZYNE1B/OlS4Uu8C%2BWAWam%2BE/2x/idp37Vnjv4cfG3xNo/hrw3oms38Hgnw/dfCXWra78T2drpEF889prs94NPu5VJvC1tDC0gjtXJ2hWcAD9V/YK%2BMXiPXr74xeIP2k9BPxHn8baN4itL7T/AIdyw%2BHFbTbK6soYZ9KbU3muC0d5M7Sm9VxJFaMpQWyKY9e/4J//ABYv/wBlnUf2SdH/AGhPC8Hh3xhB4kX4iXl78MXuLq6k1zUbu%2BvTpYGpJDpqK17MkMc0V4IwkJYyFGL1/wBnb9pf9r34zGx8EeK9W%2BHOh%2BIvHfwm0v4geB9Rs/CN/d2mi289yi3WmX0B1KN7%2BSKOa3CXUUtqsjSuxgQRBZKnw4/aT/a88b/saaj%2B1D4h%2BNfwa8M6fpmteI7tPFerfDvU/wCzb7w7Y3MtvZXYthrW%2BA3KwPciX7RKPKmhAiLE0Adff/sIavcfG%2BbxXafGWOPwBqHxC0vx1q/gqbw60t9ca7p%2Bn21nbsmpG6AjtS1lZXLwm3eRp4WImVJGSvPtK/4JSeKW8A2vw98WftNQXlv4V%2BGb%2BCfh/e6d4HFtcRWR1HTr8Tayz3kq6zM0mlWqSYW1SVJb3KhrpmXb%2BL/7YX7Svw68FfBj4t3XhfTNFX4iReGYNe%2BG2rfDzVrq406%2Bv7q0ivYZ/EMV0lhpJgW8AjW8t8zy27xxl3kCpf8Aib%2B0F%2B2D8L/2qb34baPd%2BCPHfh%2By%2BGniTxrd%2BF9D8CX1lrNtBbPHDpGn/bW1WeKa4u53mQOLRFYWM5CoSqgAgv8A/gl74Q%2BJuk%2BMNf8A2hfiVqGreOfF2vXurjxH8P77WPCNppk9xo9npBENrY6oZJUNvYwmRbi4m8xmk5VGCLleI/8Agjp8CNe%2BGXgjwlb/ABH8fWWv%2BFB4Nh1LxLafEnxLGNZtdAvobtIpLZNVWNWfbcLFKS72puN8ZJjUVV/Zo/bp%2BMX7Slj49%2BGXw/8AjD8JfEPjLQfAWgeKNL8W%2BH/C2oPodi2oTXsdxpd3anUWllurX7A%2B7FzAxNzGHihKMG3PFP7Wv7SU37BHwX/bA8Gf8IPaX/i208DXnjrTNT0G8uIZYtbudMt54rDZeRtbMjXzsjytOAI1BV8k0Aei3P7Ovxf8Y/tH%2BG/jN8VPjToF9ofgbVNUvfB2geH/AAPLp96pvLaW0EV9fSX84u40gmb5I4LcPKkUjDMSrXPap%2BwJpmufs7a/8I9d8f2994k1z4pn4hyeLL3w8JIf7bh1yLVrDzbMzfvbeBbazs/K81We3tgvmIx3Le/ac%2BM37QXwO%2BJHgvU/DfiDwRqPhzxX470PwzZ%2BBJvDl42val9ruVS9u7e%2BW9EKC0tTcXzxG0cGGxmzKm4Mhonxm/aC8OftpWH7PfjvxB4I8R6P4i8N6xr0Nn4Y8OXllqPhayt7q3isnvp5b2eK6Fz5skYKxWpMlvIY1kVJPLANn4NfAPVvgL8JPHUfirxtaa/r/i/XNV8SeItQ0zRDptj9suIVQrbWhmnaCMJDHkNNKzyGSRnLOag8cf8AKQv4X/8AZGfHn/p28IV6l45/5EnWP%2BwVcf8Aotq8t8cf8pC/hf8A9kZ8ef8Ap28IUAezUUUUAFFFc78V/iv4B%2BCPgK9%2BJnxN1xtP0eweCOaaKzmuZZJZpkgggiggR5Z5pZpY4o4o0aSSSRERWZgCAdFRXndl%2B1b8BL74F3X7SKeOmh8IWMk8N9e3mkXdvc21zDcm0ktJLKWJbpLoXKmD7K0QmMuIwhchTjXf7c/7Nll4GsfHsnibxBJHqPiCXQ7TQrbwDrU2utqUUD3Etq2jx2Z1BJEgRp2DW42xbZDhGViAeu14L%2Bx//wAm9av/ANl78c/%2BrA1WvYPh18Q/BXxb8BaP8T/hx4ig1bQNf02G/wBI1K2zsubeVA6OAwBGQRkEAg5BAIIrx/8AY/8A%2BTetX/7L345/9WBqtAHWa/8AsTfsZeK9dvfFPin9kf4Y6lqepXcl1qOo6h4B06ae6nkYvJLJI8JZ3ZiWZmJJJJJyaqf8MD/sK/8ARlnwl/8ADc6Z/wDGK878f/8ABZT/AIJufC/x3rfw08dftHfYdb8O6vc6ZrFl/wAIhrEv2e6t5Wilj3x2jI%2B10YblYqcZBI5rI/4fm/8ABLL/AKOi/wDLJ1z/AOQq8GeN4YU2pTo3u739ne/W%2Bm973NP%2BIm4mh%2B6WeTjy6W%2Bt1Va2lrfWFa1rWsrWtZWsvZtA/Ym/Yy8Ka7ZeKfC37I/wx03U9Nu47rTtR0/wDp0M9rPGweOWORIQyOrAMrKQQQCDkVrftNfBOy/aT/Z08d/s96hr8ukw%2BN/COoaG%2BqwQCV7P7VbvCJghIDlC4baSA23GRnNeNeAf%2BCyn/BNz4oeO9F%2BGngX9o77drfiLV7bTNHsv%2BEQ1iL7RdXEqxRR75LRUTc7qNzMFGckgc17j8dfjD4c/Z9%2BD3iP43%2BMtM1G60bwrpUup6ymlQpJPFZxDdPMFd0DLHGHlYZztjbaGbCn0MDWy2tCTwcoNJ68nLa/nypa27ky4kqcSfvZ414nk0u6sqvLfW15VKlr72TV97dTyPxF%2BxN8QvH%2Bg/F2Xx78fbWLxJ8W/h3pvhm%2B1rwn4Vm02HTZLMaiFuYopL6eRkcX4DRGYHETYkHmDZw3wR/4JTRfCLxFD4mh%2BJPhCw2/FweOX0HwF8L49A0iBh4RvPDhs7a1S8lMIb7ULtpWeRmdGUj5w6ei/Gf8A4KIfB34LaX4u1zVPDep6hY%2BCvFtn4b1jUR4g0HSrR7%2B402LUQkNxq%2BpWcMmyCeAMA%2B/fMFRX2SFORtf%2BCjuk%2BKfH0d/4JuLS48Ba54M%2BEmu%2BEdVi0KSe8uv%2BEw8QatppWZHu4VjjEVnZlWALwNJM7Jc4WCu4k6v4G/sUeIfgFH4Eu/CPxcsrm/8AA3wN0r4dW8uoeF3aG7%2BxyQMb5o0u1Zd6wsBCHOwuD5jbdrdZ%2B0b8AvHHxU8QeD/iZ8H/AIn6d4R8Z%2BCb28fStU1rw0%2Br2M9reWrW9zbT2qXVq7g/uZVZZkKyW8ed6F0bzDwb/wAFGj8TP2ivB/gjwh8H/E1l4B8R%2BCvFmv2nizVNCWdvEMOk3GnQxz6XHZXM05jf7VK3lT26TzBoGhQgnPpP7Unxo%2BIHw90bwL4W%2BDiaRD4o%2BJPje38O6FqHifS57iy03NleahPcz2sc1vLNttbC4CxCWImRkBZRmgCn4d/ZY1jwF%2By7a/sreDPFPhfUND0zwPYaFY/8J34JbWI7yePcLu51CBbyCO7juE25gQQ7HMjb3V1RPO7P/gmvF4b/AGeX%2BC/hG9%2BEj3mreMpvEniOfxN8D4dR0ZLt4Et4jpmki/ij0428ENtFAXkuNqQfOJWdnPQ6V%2B118U3/AGCfGv7R7/Duy1jxx4F/4SvTL7RNHhuBZ6hqeh6lfabLNDGDJOtvLJZGcRAySrG%2BzLuMnk/gj%2B2Z8R/j14P%2BJmj%2BCv2mvhBdX/ww1Cyu9Q%2BKWl%2BBr2%2B8M6jo8%2Bnm6Zo7ZNZVklhkSeN5FvZox5ByodmjiANK2/4J/fErwd8QPhK3wv8Ajz4bT4e/BzwlY6R4T8C%2BMPh/c6pJFdwxm3m1c3UGq2qNfPa/uY5JIJFg8ydkUmZ6luf%2BCb2n%2BJ/GF1oHxJ%2BKMes/ClfE3ivxHpHgCDRZrK%2Bt9T8RW2oW%2BptLqkV5ukhK6xq5iSKGGSM32fObykrz/wAYf8FDP2ofBX7FPw2%2BIt34J8I3XxX8V6Dp/inxVp7aPd22m6B4euL6FFkltjdySx3TpdW9skTXBzP9olG%2BO1kjr1v4tfFX9qbwT%2B2T8M/hB4T8c%2BANR8M%2BO9T1K61Hw/P4Cvl1XS9B0%2Bw33V5/aC6t5Mj/AG6fTrdf9DVQL9c5KZcA0v2WP2F/AX7JvxR%2BIXxC8DeOfFmpW/jmbTTDpfiTxlrGr/2bFaWcdsEEmo31wZWYoWD4RlQrECURceueD/8AkEzf9hW%2B/wDSuWtSsvwf/wAgmb/sK33/AKVy0AalFFFABRRRQAUUUUAFFFFABRWd4o8X%2BE/A%2Bkvr/jTxRp2j2EX%2BsvdUvY7eFPq8hCj86%2BfviP8A8Fc/%2BCfPw41D%2Bwh%2B0Np/iTVHbZb6X4JtJ9Ylnf8Auo1ojx5%2BriuXE47BYNXr1Iw9Wl%2BF7/cj3cm4X4l4im45Vgqte2/s6c5peslHlXzkrbvTU%2BkqK%2BR/%2BHiv7TfxS/dfsu/8EyviZq8UnEOrfES6tvDFqR/z1Xzy7SJ3GME%2Bxo/4RD/gs78Xvn134v8Awf8AhBZS/wCrTw1oFxr2owj/AGzdkQMw/wBniuP%2B2KFT%2BBTnU/wwaX/gU%2BRfmfSf8Q4zTCa5ti8Lg%2B6q4inKa/7hYf6zUv5NRf5H1xWD42%2BKvwv%2BGlt9s%2BI3xI0Dw/CF3GXW9YgtFx65lZRivmb/AIda%2BLPiEfO/aZ/4KC/Gnxrv/wCPjTNK15ND0yb13Wtsp/DDjFdB4J/4I9/8E4vA1x9vtv2Y9K1W7Zt0114lv7vU2lb%2B8y3UrofwUD2o%2BsZxV%2BDDxj/jnr90Iv8A9KD%2BxvDjA/71m1au%2B2HwrUflUxVWn9/sreRd8ff8Fav%2BCcnw4Zo9c/ay8MXjqcBPDzTaqWPoPsUcoNcmf%2BCu3w78Wfu/gN%2ByX8dfiEX/ANReaB8OpY7M%2Bhaa4dNin1K19F%2BAfgP8DvhUqp8L/g14U8NhBhBoPh62s8fTykWuro9hnVT4q8If4YN/jOX6B/anhng/4GV4jEPvXxUaafrDDUL/AC9ofJH/AA0p/wAFXfij8vwq/wCCfnhfwPbSf8e%2Bq/E74gxz5H957WxUSp9CSaUfs%2Bf8Fc/iKPM8f/t8%2BB/AiSczWPw9%2BGyX6gd1SbUGDr/vYzX1tRR/ZTqfxq9Sf/b3Ivugo/mH%2Bv8AHC6ZZlOCw/m6H1if/geKqVv/AE2vlsfJP/Dq/XfGP7z46f8ABQv4%2BeKd3%2BusLHxiulWMvrmCCM/o3Favhb/gjR/wTn8N3v8AbGo/ABfEOoE5l1DxT4gv9QeU%2BrLNMYz/AN819Q0U45JlKd3RjJ95Xm//ACdyM6vij4hTpunTzKpSg/s0eWhG3a2Hp0dPVs4f4cfsyfs4/B8o/wAKfgJ4N8Nun3ZtE8M2ttJn1LxxhifcnNdxRRXpU6VKjHlpxUV2SSX4JHxmMx2OzCs62LqzqTf2pylOX3zlJ/iFeM/sv/8AJb/2jv8Ass1j/wCoV4Xr2avGf2X/APkt/wC0d/2Wax/9QrwvVnKezUUUUAFFFFABRRRQAUUUUAFFFFABRRRQAUUUUAFFFFABRRRQAUUUUAFFcx8aND8W%2BI/hbrekeBfiVqXg/VZLMvaeI9IsrS4ubIowdjHHeQzQMzKrJ%2B8jcDfnBIFeAp%2B018Zbb/gkv4D/AGkV8SwS%2BPfFfw38HtP4gutPi8uDU9YGn20moNAirERHLeNcGIKsfybcBeKAPqWvzr/4LJ30%2Bg/t8fsX%2BL4jtj0nxpqUt2/pA%2Bq%2BGon/APRgFfVX7InjX4l3fiv4sfBT4m/Ea%2B8ZTfDfx5baXpfivVbGzt72%2BtLrRNM1NUulsYILfzo5L2WPMUMYMSwkruLM3xd/wW7%2BJ3hvXPij4VvNJ03xDBefDHwrq2p39zqvhHUbG0Y/8JR4LjDWt1cwRwXoG85a3eQLkbiNy58rPHbKK0uyv/4C4y/9tPv/AArSqeIuWUX/AMvKns//AAbTr0l%2BNVH6d0UdelFeqfABRRRQAUUUUAFFFFABRRRQAUUUUAFZVp/yO2of9gqz/wDRlzWrVLUvD2l6rcLeXKzpMqbBLbXcsLFc52kxspIzzg%2BtAF2isv8A4Q/Sf%2BfvVf8AweXf/wAdo/4Q/Sf%2BfvVf/B5d/wDx2gDUryn9qD9jz4Vftay%2BCpfiXf6zanwP4vttesv7Fu44f7QER3Pp93vjfzbKZljMsI2l/Jj%2BYAEH0L/hD9J/5%2B9V/wDB5d//AB2j/hD9J/5%2B9V/8Hl3/APHaAPGB/wAE%2BPhwn7Qlj8fofiz46jTTviJceObTwXHe2A0ddcn0ibSZrlv9D%2B1yBreeQiN7hkR8FAi5U43h3/gl38EPBvgzQPDHg74j%2BOdLv/Cfg3wZ4e8LeJba/sWv9LXwzHfRWF5H5lo0D3EkWo3Uc4lieGRJNoiQZz9Af8IfpP8Az96r/wCDy7/%2BO0f8IfpP/P3qv/g8u/8A47QBwv7Of7MOkfs0%2BFk8I%2BE/ip4t1i1k1/XNb1d/EU9lPLqt/qt819PPM8drGV2TSS%2BWkPloFlKsrhU24/jv9iH4cePvjYfjHqHjnxVaW15reja34h8FWN1ajR9d1XSXSTTb65V7drgSwPDasBDPEjmzt/MSTyxXqX/CH6T/AM/eq/8Ag8u//jtH/CH6T/z96r/4PLv/AOO0AeVfHj9ifw7%2B0B9jvfEXxt8eaPqsGka1ol7rnhy5063utR0PVJo5brSZt1k6LABBbpHNEkd3GIAy3Ad5XkoT/wDBPf4S/wDCzG8aaT458W6b4fn8V6N4nv8A4cWFzZLod3rGlWtnbWF4wa1N2hiTT7AiKK5SFns42aNiXL%2Byf8IfpP8Az96r/wCDy7/%2BO0f8IfpP/P3qv/g8u/8A47QB5Tpf7Gl3beMrv4m69%2B1R8TNa8Vr4Zu9A8M%2BJdS/sNZ/DVjdXNrc3K2cUGmR28jSyWNnue7iuGItkGcFt2F42/wCCdvhnx78BPiF8DdY/aR%2BJSXHxWv3uPiH43hbRDq%2BsRPYR6ebYh9Mazt4RawwxgW9tEw8rcG3vIz%2B5/wDCH6T/AM/eq/8Ag8u//jtH/CH6T/z96r/4PLv/AOO0AeMfFD9gHwd8Y3tbn4g/HHx9eXF14Wh8NePZ4pdKg/4TvSIriS4Sy1RIrBY1jDzXK5s1tW2Xc6btshFdJrP7KGneMfjRpXxd%2BJXxn8ZeJ7Pw5q13qfhbwTq66Wmj6Rd3FlcWLyoLexiuZ8W13dRKtzcTKouGO3cEK%2Bh/8IfpP/P3qv8A4PLv/wCO0f8ACH6T/wA/eq/%2BDy7/APjtAHjvwd/YF8CfBXQNa0Xw78Y/H19Ne%2BBIfBnhvVtU1Gye78J6HAswt7TTnjtEGYjNuE1yLieQww%2BbJKI1AT4sfsCeAfiP8Kfhj8FfCvxY8ZeBvDnwomsJfDml%2BFV0qWC5NjbrDYi7h1Gwu4rhbfYssSlAFmSOXBeKNk9j/wCEP0n/AJ%2B9V/8AB5d//HaP%2BEP0n/n71X/weXf/AMdoA8x%2BJ37Ik/xki0rQ/iR%2B0t8RNS8OWkOmDXPCYXRYbLxFPZTJOtxdvFpq3KNLLHG0sdrNbwtt2iNUZlbrPDvwI8LeGfix43%2BNVjrWqya/46sNNsL65nmiYafZ2EUy21vagRjZGslzdT4cyEy3UpztKovRf8IfpP8Az96r/wCDy7/%2BO0f8IfpP/P3qv/g8u/8A47QB5f4b/Y/l8PaP4xvJP2lPiFqHjTxtp1lp2o/EvUItEbV7WxtGma3tbeFNMXT44ka5uzg2jEtdysxLFWXlNQ/4JzWV7%2ByH4Q/Yzt/2uvitaaB4Lm0n%2BzNbt4PDZ1Oe30uW3l0%2B1mZ9GaAxwSWtuwZYVlfy8SSSBmDe9/8ACH6T/wA/eq/%2BDy7/APjtH/CH6T/z96r/AODy7/8AjtAHkWofsT3eo/tG6H%2B07cftXfEttd0Pw3aaGljLbeHpbKe1jkWS6OyTSWe2kvXRDcvavAZBHEqeWsUSpb%2BCH7HS/A340%2BM/jTpv7R3xA16Xx3rk%2Bqa9oniOHRJbZnYbLeFJ4dNjvRBaxARQQm5KIgOQzM7N6l/wh%2Bk/8/eq/wDg8u//AI7R/wAIfpP/AD96r/4PLv8A%2BO0AJ45/5EnWP%2BwXcf8Aotq8u8cf8pC/hf8A9kZ8ef8Ap28IV6ifBmhvhZ2vpkyCYrjVrmRG9mVpCrD2IIry7xx/ykL%2BF/8A2Rnx5/6dvCFAHs1FFFABXkH7a/w38ffEP4T6RffDLwy2u6x4T8f%2BHfE8Ph1LuGB9Wi0/U7e4nto5J3SJZjCkhi810jMqxh3RSXX1%2BigD5P8ACvwJ8d%2BJ/wBnb4oeHvjJ%2Bz94ztrvx343vPHGn6B4c1/Rl1LS7hL%2BCTTreGdr37MupRGwtb0lnNoJZNnnSgNnyBv2I/2im0o/E74kfDf4m%2BME8T/HS88ZeIPD%2BnfELS9I8dWNv/wiltoNpIup6deWFnA7NZ75obG6hTyLiOINKscqS/ofRQB43%2Byz8GPil4F/Yg8EfAvxp4ol8JeKNJ8G2mm3GoeFYbB5dJaNAqJEJbaS0kkjQKjN5DRuwZlXBFc1%2BwzpN/oH7LFxomq%2BJ77W7mz%2BN/jSG41jU44Eub518faqGmlW3iihDuRuYRxomSdqqMAfRNeJ/sPWFpqfwF1%2BxvoBJFJ8ZfiMGUkj/mdtaIORyCDggjkEUAe2UVlf8IfpP/P3qn/g8u//AI7S/wDCH6T/AM/eq/8Ag8u//jtAGpVTXtC0fxRod74Z8RabFeafqNpJa31ncJujnhkUo8bDurKSCPQ1W/4Q/Sf%2BfvVf/B5d/wDx2j/hD9J/5%2B9V/wDB5d//AB2gD5%2B8E/8ABMH4UfDT4R%2BA/hh8PPjV8R9K1D4fa3qeqaX45XU9PudbvJb9JoroXUlzZSQSbopvKV1hSWNIYhG6bSTY8Df8ExPgH8P/AA14e8K6J4t8YSW3hrw18PNDsGu9Stnke28G6rd6ppbSN9nG6SWe8lW4bgOioIxCwLt7z/wh%2Bk/8/eq/%2BDy7/wDjtH/CH6T/AM/eq/8Ag8u//jtAHiHw2/4J3eBfhT8RNL%2BIHhL46/ERV8L%2BG9d0LwHoVxeabJYeFrPVZraaZLRDY75TE9pB5JunuNipsO5Plr0j45/APRPjv4N0vw5q/jTXdE1TQNatdY8PeLNAe1XUdM1CAMq3MQnglt2LRyTROkkLxvHNIpTB46f/AIQ/Sf8An71X/wAHl3/8do/4Q/Sf%2BfvVf/B5d/8Ax2gDi/ht%2BzbYfCL4YQ/Cv4e/FXxVYWqadq63Gok2E15dapqV015ca1I8toym9%2B0y3EwAUWxe5k3QOBGE5m5/YV8Aa78FfiD8HfHfxP8AGXiOb4qtt8f%2BLtUubGPVNWt/IitjaH7NaRW0FubWL7P5cMEY2SysMSyPKfWv%2BEP0n/n71X/weXf/AMdo/wCEP0n/AJ%2B9V/8AB5d//HaAPLf2rf8Agn5%2ByH%2B2hoD6V8fPgT4W1fUBZ29nZeJbjwvp9xqlhbQ3AnWCC4uYJWijLbwUHykSycAsTXXaL%2Bz74C0D43t8d9P%2B1LqMXgi18K6Tpa%2BUlhpOnxXMlw4tYkjDRtMzQLJlmUrZWwVU2MX6T/hD9J/5%2B9V/8Hl3/wDHaP8AhD9J/wCfvVf/AAeXf/x2gDUrK8H/APIJm/7Cl9/6Vy0f8IfpP/P3qn/g8u//AI7V%2BwsLTTLRLGxgEcUYwqgk98k5PJJOSSeSTQBNRRRQAUV4z%2B0Z/wAFBP2Rv2WJzo/xa%2BMenx64zBLfwtpAa/1SZz91BawBnQseAXCqT3ryX/hqL/gpB%2B1F/o/7Kv7JVt8MvDtx/q/HPxsmaK6aM/xQ6VBmRWxypkLI2RnFebXzXBUajpRbnNfZgnKXztpH/t6UT7TK%2BAOJcxwccdVpxw2FltWxE1QpNf3HUtOr6UaVV%2BZ9fTzw20L3NzMsccalpJHYBVUckknoK%2BefjD/wVU/YZ%2BDesf8ACJXnxrtvEviBnKQ%2BHfA1rJrN3JIOseLUOiP/ALLuprjLf/glL/wt6VNW/bu/ax%2BIHxdmZg83h7%2B0TougBs5%2BWxsyMYPGQ4yByK%2Bh/g3%2Bzl8Bf2etI/sP4H/B/wAO%2BFrdkCy/2NpUcMk4HeSQDfKfdyT71l7TOcT8EI0l3k%2BeX/gMbRXzkzv%2BpeGuS/7zia2YVF9mhFYajf8A6/V1OtJecKEL9Gunzz/w2/8At4fGv91%2By3/wTi13SrGb/U%2BJvjLrMWixxjszWKFp5FPXKt0%2BtL/wyv8A8FO/jR%2B8%2BP37f%2BmeCLGX/j48PfBvwosRGf7moXf%2BkJjp90%2BtfXNFP%2BypVf8Aea85%2BSfJH7oW/GTF/r9SwGmS5XhcL2lKm8TV9faYp1En5xoR8rHyx4W/4I5fsU2mrR%2BKfi1ofif4o66nXW/iZ4tutTmf13JuSFsn1jNfQPw4%2BC3we%2BDun/2V8JfhV4c8MW23aYPD%2BiQWasPcRIufxro7m5trO3e6vLhIoo1LSSSOFVR6kngCvLfiD%2B3P%2Bxn8Kt8fxA/am8BabNHnfaSeKbV7jj/pijmQ/gtaQwuU5YueMYU/N8qf/gTd3/4Ez5viDjviTOKSWc5lUnBbRqVWqa8lT5qdNJdFGmkuiR6rRXzTN/wWG/4JpwZ3/tZ6Ccf3LO8b%2BUJqle/8Fpf%2BCYtghkn/AGq9OYD/AJ46Bqch/JLYmh5zk63xNP8A8Dj/AJnxT4gyGO%2BLpf8AgyH/AMkfUdFfJZ/4Lgf8E3bo48P/ABm1fVj2Gm%2BA9YbP/fVqtN/4e8/DnX/l%2BE37IH7QXjXd/qp9A%2BF83kH3LzSJtHvio/tzJ38NeL9G5f8ApKkZ/wCsmQP4cTCX%2BFuX/pMZH1tRXyUP%2BCgn7Yeqf6T4X/4JO/EuW2b/AFbat4i0%2BxlP1jckr%2BdB/bk/4KBzf8eX/BIzxQxPTz/ifpUf81OKP7awPTnf/cOp/wDIB/rDlvTnfpSq/wDys%2BtaK%2BSv%2BGrP%2BCrOs8aR/wAEqNM0tT92XWPjfpkv4lYo8j6Uf8Lm/wCCx8/72L9i/wCFcCnpFN8RZGZfqVTBo/tjDv4adR/9wp/qkH9vYV/DSrP/ALg1P1SPrWivko/F7/gso/yJ%2Bx/8I0J4Dv8AECYhfcgLkijzP%2BC4Pib7lv8As1eGIG6731u9uU/LEZo/taD%2BGhVf/cNr85IP7cpv4cPWf/cKS/8ASpRR9a0V8lf8Kb/4LIXn7y5/bN%2BFNmW5Mdp8O5JFX2Bd8n8aP%2BGfv%2BCvlz8k/wDwUH8CWoPV7b4UQuV%2Bgd8Gj%2B0q/TC1fuh/8sD%2B18S9sFW%2B6C/OqfWteM/sv/8AJb/2jv8Ass1j/wCoV4XrzD/hjn/gpzq/PiP/AIK4zwoesGj/AAU0iDb9JDIW/Sui/wCCdfgHxx8MNb%2BPPgb4kfFq/wDHWtWPxmg%2B2%2BKtTsorae%2BL%2BEfDci7o4vkXYjrGMdowepNdGGxWIrzanQlBd5OH3WjKTOrCY3FYmo41MNOmrbycPutGUn%2Bh9J0UUV2nohRRRQAUUUUAFFFFABRRRQAUUUUAFFFFABRRRQAUUUUAFFFFAGJ8Rvh/4f8Aip4J1D4feKrnV4dO1SERXcmg%2BIb3SrsKGDYju7GWK4hJIAJjkUkEqcgkHgvBH7En7OfgD4It%2Bzfo3hrXbzwOfDL%2BH18OeIfHWsatBHppAUQJ9uu5WQIoCxspDRKqrGyqAB6xRQByPwY%2BBfw0%2BAHhq68K/DLSr6GHUNTk1HVLzV9dvNUvtQu3REae5vL6aa4uZPLiijDSyMVSKNBhUVR8a/8ABbXw5/wlOh3WmeXu8r9njxxeYx/z7%2BIPBNxn8PKzX3xXyJ/wUh8Of8Jb41vPDix7nu/2T/iukIx/y0%2B0eFin/jwFcOZ0/bZbXh3hNf8Aksj6ngbGf2dxtleKvb2eJw8vurUv0bPpn4QeI/8AhMfhN4X8XeZu/tXw7ZXm7182BHz/AOPV0VeQf8E%2B/Ef/AAln7C/wf1xpN7yfDXRUmb1kjsoo3P8A30pr1%2BtsJU9thKdT%2BaMX98U/1PN4gwf9nZ/jMJa3s61WH/gFWpH8ooKKKK6DyAooooAKKKKACiiigAooooAKKKKACiiigAooooAKKKKACiiigAooooAKKKKACiiigAooooAKKKKACiiigAooooAK8Z8cf8pC/hf/ANkZ8ef%2BnbwhXs1eM%2BOP%2BUhfwv8A%2ByM%2BPP8A07eEKAPZqKKKACiiigAooooAK8Z/YP8A%2BSIa5/2Wb4j/APqa63Xs1eM/sH/8kQ1z/ss3xH/9TXW6APZqKKKACiiigAooooAKKKKACiiigAooqrrmu6J4Y0a68ReJdYtdP0%2Bxgae9vr64WKG3iUZZ3diFRQASSSABSbSV2VCE6k1GKu3oktW29Ekldtvokmy1SSSJEjSyuFVQSzMcAD1NfIup/wDBS74ifHjV7vwl/wAE6P2X9Y%2BJS21y9rN8Q9em/srwvBIpwzRzyYe82nqkYUkYKlgRnxv44aT4HvTLP/wVy/4KlaR9lB3Xnwc%2BF2oNYaeq94Z47fffXkfX76qwI4avEr57h4wcqC51/M2oU/8AwOVk/wDtxT8j7utwTQ4fo/WOLcfSy6G/JNqpiWt7LDwleDa29vUoWvrE%2BgPi/wD8FSfhHo/jGb4Mfss%2BDdX%2BN3xCT5W8P%2BBAJLKybON15qBBgt0BBBYFypGGC1zcX7KX/BQn9q9BqH7YP7VLfDfw7dcv8OPgz%2B4n8s/8s7nVZN0jHHyuqBo2ycEVz3wf/bs%2BFvg/wdD8OP8Agmt/wTb%2BInibR05tLzTvDCeH9FuWxgO99dfM7nqXkQsepJrpX8H/APBXv9pZzF4x%2BIHgf9n3w7LxJZeF4B4g15lP3ka4kxbx8cCSLDA5ODxXm%2B3WP1qynWv9ikpRp/Ob5Ob1c7f3TzJeKPDmSr2XBmXylNf8xNWnGvWfnB1ILCYddV7OFaa/5%2Btq56T8L/2ZP2CP%2BCfugjxH4f8ADXg3wSz7ln8WeJtSiW8uGIy%2B%2B9vHMhzySoYLzwBXP%2BPP%2BCwH/BObwDdf2bcftNaVrN4zbYbPwrZXOqtM391WtIpEJ%2BrAe9VPh7/wSH/Y/wBA1r/hN/jLpGufF3xTIuLjxH8Vdak1aR%2B5UQviALnoDGSBxmvf/Afwh%2BE/wstfsPwx%2BGHh3w5AF2iHQdFgs1x6YiRRivToUc0hTUKMKVGPRWcmv/AeSN/v9WfE5nnHG/EeMljMwrRdSW8qs6lep825Rj6JPlXRWPmg/wDBUH4i/EgmD9lr/gnZ8YvGZbiDU/EOmReHdNmPYrdXTNkeuVGKVdW/4LUfFQ/abHwn8EPhVYuM/ZtVvr3XNSjz23QYtzj%2BdfXFFa/2diqv8fEzflHlgvwUpf8Akxwf2Vja3%2B8Yyo/KCjTX/kqlL/yY%2BSf%2BGRP%2BCnnjD5vH3/BU9dKhb7%2Bn%2BD/hNp8WP924kcyD8qP%2BHWfizxH83xO/4KT/ALRmrZ/1lvpfjmPTbeT2McUJ49s19bUU/wCxcA/jUpf4qlR/%2B3pfgH%2Br2WS/iKc/8VSrL/3Il%2BB8mQf8EVf2GtSnS5%2BJmk%2BNfHDo24Hxf8QNRuAW/vERyxg/livUfh9/wT3/AGG/hbsfwR%2Byd4CtZov9Xdz%2BGre5uF%2Bk0yvJ/wCPV7FRWtLKcroS5oUIJ9%2BVN/e03%2BJtQyPJcNLmp4aCfflTf3tSf4mBD8KfhdbY%2Bz/DbQI8dNmjwD%2BS1ds/B3hHTnEmn%2BFdNgYdGhsY1P6CtKiu1U6a2ivuX%2BR6KpUo7RX3L/IAABgDAHYUUUVZoFFFFABRRRQAUUUUAFFFFABXjP7L/wDyW/8AaO/7LNY/%2BoV4Xr2avGf2X/8Akt/7R3/ZZrH/ANQrwvQB7NRRRQAUUUUAFFFFABRRRQAUUUUAFFFFABRRRQAUUUUAFFFFABRRRQAUVx37Qfxm0L9nf4HeLPjn4k0y6vrPwpoFzqUmn2O3z7xooyyW8W4hfMkYLGu4gbnGSBk1w3wx/ao8caxofxK0z4vfBIaP40%2BGFrHear4W8Ia8%2BuJqdtNY/bLZ7Kd7a1eV5Ns0HltChE0DgFkKOwB7VXgPx78Ojxf%2B2Z4L8JsoYap8AfiLaFT38zUfCSf%2BzVW/YK/bxt/224vEj2XhrwqkPh%2Bz0q5/tnwJ48HiPSpHvoppDYPdfZLbytQthEpuLXY3lLc253t5hC9D44/5SF/C/wD7Iz48/wDTt4QpSipRcX1NKNWdCtGrDeLTXqmmvxSOJ/4I1%2BIj4n/4Jn/CnUGclodJu7M56j7Pf3MGP/IdfTlfJf8AwRg/4lX7IGo/D7p/wiXxM8SaRs/ubL%2BSTH/kX9a%2BtK8zI5OWTYe%2B/JFfcrP8j7jxRpQo%2BJOcKHwvE1ZL0nL2kfwqIKKKK9Q%2BDCiiigAooooAKKKKACiiigAooooAKKKKACiiigAooooAKKKKACiiigAooooAKKKKACiiigAooooAKKKKACiiigArxnxx/wApC/hf/wBkZ8ef%2BnbwhXs1eM%2BOP%2BUhfwv/AOyM%2BPP/AE7eEKAPZqKKKACvn7/gpcdMH7Ndr/wmnl/8IV/wsLwv/wALI%2B0f8e//AAj39s2n237Vnj7H5f8Ax87v3f2bz/M/d76%2BgaKAPgvwRafC/wAffsBfFr4X/D/4y%2BCvC3gSPx3qWreAm1bWo7XRD4Rh1iKR4nZG/c6HdTwahZiaMGEWsx8oNGEU%2BJI3iTVvhXZrq8nwT8Jfs/6x%2B05emxa7STVPhxY6Mng6PylCk6fFfaa%2BvRXm0sba3kv3R1BHlJJ%2BsNFAHi/7KPj3xf4y/Yg8G%2BOPhv8ABbwzoeqTeF4hofg5bubSNGVIyY4vIdLWaS1s5I1WWEeQ7LFJGCveqf8AwTpuPEt3%2BzdfXXjLSbGw1eT4t/ENtTsdM1F7u2t5z4z1rzI4p3hhaZA2QHaKMsACUXOB7pXjP7B//JENc/7LN8R//U11ugD2aiiigAooooAKKKKACiiigAorx79pn9vn9kj9kOzkf47fGrSdMv1j3xaDbSG61GXI%2BXbbQhpAD2dgqerCvlOT9rb9vH/gqereEv2FfBWofCD4XTu0Or/F7xXEF1C7jztZLCKNiA2N3MbMQQMzQHg%2BTi85wWFqexi/aVekIay%2BfSK7uTSRyPFxnOVPDxdWcbXUdVG%2B3PP4Kadn8ck3Z8sJvQ90/bP/AOCpv7P/AOyHrUHwu0%2Bzv/H/AMSb%2BVIdN%2BHvhAefeGR/uCdlDCDORhcNI24FYyMkfL/xi/ZP/wCCvn/BSjxFZ618dovBvwu%2BHsU63Nh8ONU1ea7G370cl3Faf8fcy/Kds0kaqRjykyyn68/Yv/4Jvfs2/sSafJqXgDQZdZ8X3ysda8d%2BIWFxqd67nMmHIxCjHkomM4Bcuw3H32uKeVY3NoP%2B0ajjB/8ALum7L/t%2BdrzfdK0fJnoZfi86yiusTg8bOjWs1zUeWHImrWp1JU5VVLe9WLpSd/c9mvefxt4a/wCCS2v%2BKdAs/DX7T/7bfxC8WaPZW6wQeDvB4g8LaAkQGBF9isRgoBwNrLx9a9q%2BB/7An7GX7OIhl%2BDn7OHhbSruDHlapLp4ur5cf9PVxvm/8fr1%2BivSoZRluGkpwpJyXV%2B8/vk5NfKx49LJ8tp4h4h0%2Beo3dzm3Um29W3Oo5yu3q3dXeu%2BoUUUV6J6YUUUUAFFFFABRRRQAUUUUAFFFFABRRRQAUUUUAFFFFABRRRQAUUUUAFeM/sv/APJb/wBo7/ss1j/6hXhevZq8Z/Zf/wCS3/tHf9lmsf8A1CvC9AHs1FFFABRRRQAUUUUAFFFFABRRRQAUUUUAFFFFABRRRQAUUUUAFFFFAHHftCfBnQ/2ifgb4s%2BBniTVLqws/FegXOmyahY7fPs2ljKpcR7gV8yNisi7gRuQZBGRXlvh79jT4maj4f8AiZbfGP4%2B2Gr6z8XNGn0rxfrfhbwjNo72toNNFjZppytf3BtWi33M7PI05kluCV8pUVB9B0UAeKfsvfsseN/gr488Q/FP4o/FPRPEuva54U0Hw1EvhfwWdBsLbTtJN81uTbm7ui9wzahPvk8xU2JCiRRhDuw7/wCEfwo8Df8ABTbwX498E/DHw9o%2Bu%2BJ/g944l8S61pWiwW93qzx6t4S8trmaNA85Xe%2BC5YjccdTX0PXjPjj/AJSF/C//ALIz48/9O3hCgDzH/gll/wASLxJ%2B0n8Pm4/s39pHxBdwJ/cgukt5EH04b86%2BtK%2BS/wBh/wD4p/8A4KC/tbeAT8qxeJfDGrxr2P23S2diPxQZr60ryck0y5R/llOP3VJr9T9A8T/f4xqV/wDn7SwtX/wZg8K//bWFFFFesfn4UUUUAFFFFABRRRQAUUUUAFFFFABRRRQAUUUUAFFFFABRRRQAUUUUAFFFFABRRRQAUUUUAFFFFABRRRQAUUUUAFeM%2BOP%2BUhfwv/7Iz48/9O3hCvZq8Z8cf8pC/hf/ANkZ8ef%2BnbwhQB7NRRRQAUUUUAFFFFABXjP7B/8AyRDXP%2ByzfEf/ANTXW69mrxn9g/8A5Ihrn/ZZviP/AOprrdAHs1FFFABRRRQAUUV8wftkftm%2BPdO%2BIFv%2Bxd%2BxZplr4g%2BMmu23mXd1MN%2Bn%2BC7BsbtRv2wQGCsDHCQSxKkq25El5sXi6OCo%2B0qeiS1bb2SXVvovm7JNrjx2Ow%2BX0Pa1fRJaylJ7Riusn0Xq20k2ug/aa/4KMfBD9nTxsnwX0rR/EHj74k3UCyWXw98C6W97f7WGVeYr8lumCrEu24KQwUivj/8Aa5/aW/b18cajp3w3%2BJ/iqf4d6x4qwPC/wE%2BDN%2Bl74v1ONs4fUNV2tHpkAGSZkU5VWzGdrFej%2BD%2Bpaz8N7/W/2Qf%2BCZJj8d/E/Ub3z/jZ%2B0b4mXz7HT71yfMdpDu%2B1XCkv5VspZIznd5jecR9Y/shfsNfC39kqxv/ABBZ6he%2BKvHniFvN8YfEXxG/nanq8xwWy7EmKHIG2JTgBV3F2G6vln/aeeScFU5Yfa5fhj/dUlrVmtnZxpRd179rH2uC4Kw%2BTYSnmfHMpc1RKdLLqU3TnOLV4yxdWP7ylSas%2BSLhVrL%2BHCnTftZfKX7GH/BCTwDomtw/Gb9tDStM1jV5JftNr4B064luNOtHJDbr25lZpdRlzywZvJDFgA6EAfolp2m6do%2BnwaTpFhDa2trCsVtbW0QSOKNRhUVVACqAAABwAKmor6HLcqwGU0fZ4aFr7vq/Nvr%2BCXRHn5tnuMzZQpOMKNCnf2dGjCNKjST3UKcLJN2XNOTqVZtXqVZvYooor0TxgooooAKKKKACiiigAooooAKKKKACiiigAooooAKKKKACiiigAooooAKKKKACiiigArxn9l//AJLf%2B0d/2Wax/wDUK8L17NXjP7L/APyW/wDaO/7LNY/%2BoV4XoA9mooooAKKKKACiiigAooooAKKKKACiiigAooooAKKKKACiiigAooooAKKzfGfjHwr8O/B%2BrfEDxzr9rpWiaFps%2Boaxql7KEhs7WGNpJZpGPCoiKzE9gDXNfBf9ov4SfH/w9qfiX4ba7fNDot99j1q017w/faPe6fN5EdwFntNQhhuId0M0Uql4wHjkV1JUg0AdvXjPjj/lIX8L/wDsjPjz/wBO3hCus%2BB/7R/wp/aM0261z4SXut3unWywyRapqPhDU9NtL%2BGUMYp7Ke8t4o7%2BBwhZZrZpYypUhsOpPJ%2BOP%2BUhfwv/AOyM%2BPP/AE7eEKAPMfg3/wAU1/wWO%2BM2ifd/4Sb4VeHdXx/f%2BzyPaZ/DOK%2BtK%2BS9e/4pr/gtzoGpZ2x%2BJv2cbqwx2eW31kT5%2BoU4%2BlfWleTlPuxrw7Van4uMv/bj9A8Qf3tbK8T/AM/MBhH84Qq0n93skgooor1j8/CiiigAooooAKKKKACiiigAooooAKKKKACiiigAooooAKKKKACiiigAooooAKKKKACiiigAooooAKKKKACiiigArxnxx/ykL%2BF//ZGfHn/p28IV7NXjPjj/AJSF/C//ALIz48/9O3hCgD2aiiigAryH9tf4kePvh58J9Isvhl4lbQtY8WeP/DvhiHxElpDO%2Bkxahqdvbz3Mcc6PE0wheQReYjxiVoy6OoKN69XO/Fj4T%2BAfjf4Cvfhn8TdDbUNHv3gkmhivZraWOWGZJ4J4Z4HSWCaKaKOWOWJ1kjkjR0ZWUEAHzpYfGX9qif8AZD%2BKFh4N8Qaj4q8d/D74jXfhm38UWug2supX2lxX1q01/HZwxJbz38GnXMuIkiEc1zagCECTyq8W8af8FRde%2BG/wE%2BJHw91v4/y%2BHfFVn8Sb3wp8P/iN8YtGsfD199gj8OaZrc%2Bo3VlcW9pALqIag1vb27WyGaRrIyQ7XmI%2Bz/C37KPwX8EfD26%2BF/hCz8SabpF7aTw3Qs/HmsR3Urz3Ul1Pdm6F39o%2B2yTyySPe%2BZ9pct80pAAGn4C/Z7%2BEnw1%2BGV/8IfCXhudNE1Y3bawL/WLu8u9RkuQRPNc3lxK9zcTODgyySNJgKN2FGADmv2c/2hNH8c/sW%2BBv2j9b8US%2BKItT8CabqWq6p4U0qTVZL25a3j%2B0GG202KR5X87zAY4YyVIYBRtIGJ/wTp8Q2Hi39m6%2B8U6Vb30VtqPxb%2BIdzbxanpc9lcoj%2BM9aYCW3uESaBwDzHIiupyGUEEV7F4M8IeHfh74P0nwD4Q077HpOh6ZBp%2Bl2nnPJ5FtDGscabnJZsIqjLEk4ySTzXlf7B/8AyRDXP%2ByzfEf/ANTXW6APZqKKKACiivmX9tz9tTxZ4D8UWf7Jf7Jmm2niH4z%2BJ7UyQRTsDZeE7DHz6rqDYIjRFO5Eb7xwcEFVk5sXi6OCourVemyS1bb2SXVvovySbXJjcbQwFB1avkkkrylJ6KMVu5N6JL8Em1nft5/t0eIfh7rjfsr/ALLd5pl18UdR0t73Wdb1OZV0vwHpKrul1bUZGyke1DuSNuuVJDbkSX5r/ZP%2BAXjj9pjwrqPwn/ZZ8S%2BIPDXwl1jUHm%2BK/wC0BqsTR%2BJfije7mE8diZMvBaFi672zgMwO5jKklP8AZT/ZG0n9rzxDqfwv8HeJ9T1f4N6b4hF78YvildyMt/8AF/xFG%2B9raOXO5dMhkJwFODnILOwkX9QdE0PRvDOjWnh3w7pNtYafYWyW9lZWcKxxW8SKFSNEUAKoAAAAwAK%2BXwmGxOfYh4rEu1JXSSe66qLX2XtOa1qO8YtU1ef6LgMth4buGY5pSjUz2ceaFOVp08thJJx5oNONTHTTU5c6cMMnBOEqtoQ5z4IfAv4Ufs4fDbT/AISfBfwXaaFoOmR4t7O0Tl2ON0sjnLSyNjLOxLMeprraKK%2Bup06dKChBJJaJLRJeR8bi8Xisfip4nE1JVKk25SlJuUpSbu222223u2woooqznCiiigAooooAKKKKACiiigAooooAKKKKACiiigAooooAKKKKACiiigAooooAKKKKACiiigArxn9l/wD5Lf8AtHf9lmsf/UK8L17NXjP7L/8AyW/9o7/ss1j/AOoV4XoA9mooooAKKKKACiiigAooooAKKKKACiiigAooooAKKKKACiiigAooooA8w/bU%2BEPir4%2BfsmfEP4O%2BBXtRrfiDwpeWujx30pS3mujGTFFKwBKxO4VHbBwrMcHGD5F4c%2BEPxy%2BNQ%2BPGr%2BN/g5r3w7k%2BNPhgeH9HttT1XS7qbREttIe2W9vDY3kyb5Z7uYRrA0xEdojSGIuEH1ZRQB8vf8E7/hX%2B0f8ADHUNX0/4n%2BGvGvh7wvD4L8P2Fronjzx1Br083iC3F2up39k8N1ci1sJY2sVjg3QqDC5W1thnzNq/8F%2BJPD3/AAU28F%2BItW%2BLniHXbPVvg944ew0HVbbTktNFC6t4Syls1taRTuH3DP2iWc/INpX5s/Q9eM%2BOP%2BUhfwv/AOyM%2BPP/AE7eEKAPMf2oP%2BKb/wCCrv7MPiEfKmvaH4y0id%2B37qwiuEB%2BrE4r60r5L/4KKf8AEg/ae/ZU%2BIH3fs3xel0jf6fb7J49v47K%2BtK8nL/dxuLh/fi//Aqcf/kWfoHF/wC%2B4Y4exH/UNVp/OljK6/BVIoKKKK9Y/PwooooAKKKKACiiigAooooAKKKKACiiigAooooAKKKKACiiigAooooAKKKKACiiigAooooAKKKKACiiigAooooAK8Z8cf8AKQv4X/8AZGfHn/p28IV7NXjPjj/lIX8L/wDsjPjz/wBO3hCgD2aiiigAooooAKKKKACvGf2D/wDkiGuf9lm%2BI/8A6mut17NXjP7B/wDyRDXP%2ByzfEf8A9TXW6APZqKK8Q/4KCftS337Kf7PF54m8GWH9o%2BN/EV5FoHw80VEDyX%2Bs3R8uABD94JzIwPBEe3OWFYYnEUsJh5VqjtGKu/67vRJdW0jnxeKo4HCzxFV2jFNv/gd23ZJdW0upy37Z37aXjLwh41sv2Qf2QNDtvFHxq8S22%2BKCT5rHwpZNjdqeoMAQiqGDJGeXJXg7kWT5f8E/sz3fxI%2BJniL9gf4D/EPUdRWS4jvv2svjxI%2B7Udcu5CT/AGFaynPl7vnDICRGu5W3MJFl7bWvDOtfsC/CvRf2Xf2fLkeKv2pvjq/m%2BIPF99Mbi4ilYE3mr3MjAslrbZlEKkYLKW2uRIG%2Btf2RP2WvAn7H3wP0z4N%2BB5JLt4S11rut3Qzc6xqMuDPeTMSSXdugJO1Qq5IUV8ssNiM4x1sRoo/Ek9IJrSkn1nJa1ZLaPuRspO/3PCWWz4QyynxnnEE8fWTWAoySlGhFPlni5RaalKDXJRck1OupSinSw/7zsvht8N/A3wg8B6V8Mfhr4attH0HRLNLXTNNs02pDEvQepJOSWJJZiSSSSa26KK%2BujGMIqMVZLRI%2BTr162JrSrVpOU5NuUm22222227tttttttttsKKKKoyCiiigAooooAKKKKACiiigAooooAKKKKACiiigAooooAKKKKACiiigAooooAKKKKACiiigAooooAK8Z/Zf/AOS3/tHf9lmsf/UK8L17NXjP7L//ACW/9o7/ALLNY/8AqFeF6APZqKKKACiiigAooooAKKKKACiiigAooooAKKKKACiiigAooooAKKKKACiiigArxnxx/wApC/hf/wBkZ8ef%2BnbwhXs1fGP7en7R037Mn/BSr9lvxVq3y%2BG/Efh7xt4Y8TXJXK2kd5d%2BGPs87HoirdRQBnPAVmHescRXp4ai6tR2irX%2BbS/VHPisTSwdB1qrtFWu%2B12lf0vJX8ja/wCCu/8AxKfhz8HPiCOP%2BEV/aJ8Kam8n91BNNGc%2Bx8wZr60r5P8A%2BC2ttPH/AME6PGHiqzjLXHh3V9D1S3A67o9VtVJH0V2NfVlrdQXtrHeW0geOaMPGw7qRkH8q8/De7nOIj3jSl%2BE4/ofpGc/v/DbJqv8Az7rY6n98sNW/9vZJRRRXrH5%2BFFFFABRRRQAUUUUAFFFFABRRRQAUUUUAFFFFABRRRQAUUUUAFFFFABRRRQAUUUUAFFFFABRRRQAUUUUAFFFFABXjPjj/AJSF/C//ALIz48/9O3hCvZq8Z8cf8pC/hf8A9kZ8ef8Ap28IUAezUUUUAFef/tL/ABxufgD8NYvFmi%2BEV8Qa1qviHS9B8N6HJqP2OO91HUL2K0gWWfy5DBCrS%2BZLII5GWKNyqSMFRvQK8%2B/aX%2BB118fvhrF4T0Xxevh/WtK8Q6Xr3hvXJNO%2B2R2eo6fexXcDS2/mRmeFmi8qWMSRs0UjhXjYq6gHn1z%2B3RdaF%2By94p%2BN3i34Ux2nifwd4xPhHW/CVv4iElpHrD6lBYQY1B4ExZSG6tbg3LQK0cEpZ4gyNHR4Q/ax%2BO/xK8MeLNP%2BHXwO8CXfjX4deN5vDfxB0nUfitPb6Pp8qada6iskGoppMklxut761yr2sOxzKjEeVltD4f8A7K3xG8EfCPxj4B1T4meD/EOqeOrrUtV8RX2vfDuSfT7vVb2ZjIZLE6jh7BbYQ2y2hl8zZDue5dmJrzDU/wDgl94z079ny8%2BBvwr%2BNXgnwtD4u8fDxH8UbCw%2BE7xaD4htlsoLOPRoNOtNUt3sNP8AJs7NJY1uJGnWGRZGZbiYMAfR/wCzt8ZdK/aL%2BAXgn4/aFod5pll428Kafrtpp2obfPto7u3SdY3KkqWUOBlSVOMgkEVxf7B//JENc/7LN8R//U11uu/T4b6d4t%2BFEXww%2BN2h%2BGPFNvc6XHaa/Yjw0ItJv8ABlWxuJbgJCSBiJ5JdoAG5sZrzL/gnT4Y8NeCv2br7wf4N8PWOkaRpfxb%2BIdppml6ZaJb21pBH4z1pY4ookAWNFUBQqgAAAAUAe6V%2Be/iD4/8Agj4s/tC%2BPv8AgpD8Urjz/g/%2BzfaXehfDO23jZrviJwqXd5Fn5WJdoraJuVJaNwQUavcf%2BCm3x38deCfhhov7N3wHnP8Aws74zam3hzwkY2IawtyoN9qLEcqkEDE7xyrSK3O014l4S%2BAvgf4w/tGeBf8Agnv8L7bzvg1%2BzLa2mreP59g8vX/EzBntrWXHyuQ7S3Ey8qWeVGAIWvl85xVSviY4ajq4tadHUesE/KCvVn6QXVHocJ5FhOLeK/ZY9tZdgI/WcXJaXULOnRi9uepJwjFfz1IO1oM9l/4J3fs4%2BO9Mi1f9tX9puMXHxb%2BKcMd1fwuhC%2BG9JIDWukQK3MaomwyDglwA24pub6foor3sHhKeCw6pQ1tu3u29XJ923dv/ACSOziTP8bxNnFTMMSlFysowjpCnTiuWnSgukKcFGEV2TbvKUmyiiiuo8MKKKKACiiigAooooAKKKKACiiigAooooAKKKKACiiigAooooAKKKKACiiigAooooAKKKKACiiigAooooAK8Z/Zf/wCS3/tHf9lmsf8A1CvC9ezV4z%2By/wD8lv8A2jv%2ByzWP/qFeF6APZqKKKACiiigAooooAKKKKACiiigAooooAKKKKACiiigAooooAKKKKAPHv%2BCg58cj9hz4sH4b/wBp/wBsf8IFqf2f%2BxN/27Z9nfzfs3l/P5/leZ5ez59%2B3b82K8N/ZG%2BIfwn8DXXx2/4YB0Xwj4h8HtDbXnwj8F%2BEdZsrLStf1%2B30WN7%2B2019626xs7ack8kZ8uOeSZpCJPNr7TooA%2BJv%2BCR9p488O/FP9orwv8RfhL4z0PXJPH%2Bj6p4k1fxhdaQ8uo6tc%2BHNMe6bbp2o3ix5f96kYYxRQTQRI2Y2jjn/AG0/gN47/a8/afj/AGdvij4M8NaXoesfAfx3H4J1vTvE097dSXS6t4RkhuLm3eyhW0MU6QsFjmuN43gsuPm%2B0q8Z8cf8pC/hf/2Rnx5/6dvCFZ1qNPEUZUqivGSaa8mrMxxFCliqE6NVXjJNNd000/zPntvH/j39vL/gjF438LX%2Bh3V78SNE8OXnh3xboirvujruluhkQqOssvlRyhR3lAHPFfTP7Ffxt8F/tC/st%2BCfif4H16O/t7rw/bQ3pU4e3vIoljuIJFPKukisCD7EZBBPhenf8Ybf8FVrnSG/0bwR%2B0ppJurXtFa%2BK9PT94von2iBtxPWSVgOdtZPxasb3/glv%2B03cftMeFbOUfAn4o6xHF8UdJtoy0fhTWpWCR6zEg%2B7BKxCzAdz3JiQfL4evVwc1iKzv7NexqvqlF3hU9GpJy7JuXSR9x4eyfF/B1XhGcv9vw9aVWhf/l/NUownR8qlajCnVoP7dWE6T96dM%2B26Kisb6y1Oyh1LTbyK4triJZbe4gkDpKjDKsrDgggggjgg1LX1m58c04uz3CiiigQUUUUAFFFFABRRRQAUUUUAFFFFABRRRQAUUUUAFFFFABRRRQAUUUUAFFFFABRRRQAUUUUAFFFFABRRRQAV4z44/wCUhfwv/wCyM%2BPP/Tt4Qr2avGfHH/KQv4X/APZGfHn/AKdvCFAHs1FFFABRRRQAUUUUAFeM/sH/APJENc/7LN8R/wD1Ndbr2avFv2F7iC0%2BBPiC7upljii%2BMfxIeSR2wqqPGutkkk9ABQB8j/tl/tSr8Pv%2BChXjf4waNYf2vqvwg%2BGlh4Q8AaEieY174x8QStJAqL/Hi2Vi6jkrEwznAr65/YI/Zab9kz9nbT/A3iHUP7R8Xaxcy634%2B1t33yalrV0Q9zIz/wAYU4jU91jBPJNfnr/wTk01f2rf%2BClVh8cPEdj9rtLyfxT8TbdLhSUjjmvho%2BmRMp6vCtvJJGTyobcPWv1yr5LhyP1%2BrVzCeznNQ%2BbTcvVxUIrtFebPqoTWReHeBwFLSpmX%2B315dXCc6sMHS/wQo0nWs96lZO3uxCiiivrT5UKKKKACiiigAooooAKKKKACiiigAooooAKKKKACiiigAooooAKKKKACiiigAooooAKKKKACiiigAooooAKKKKACvGf2X/8Akt/7R3/ZZrH/ANQrwvXs1eM/sv8A/Jb/ANo7/ss1j/6hXhegD2aiiigAooooAKKKKACiiigAooooAKKKKACiiigAooooAKKKKACiiigAooooAK8Z8cf8pC/hf/2Rnx5/6dvCFezV4z44/wCUhfwv/wCyM%2BPP/Tt4QoAzP%2BCjP7M3i39pr9nSXTfhRNFbfEDwjrNp4m%2BHl9JKsfk6tZyb0Xe2AvmIZI8khQXUnhaw/gH%2B2Z8Cv22dF1v9l346%2BBZfCfj5tNksfGvwn8ZQ%2BVPLG0ZErWxbAuoCMsskZ3BcMQoKsfpWvIv2r/2JPgT%2B2FoNrbfEvRbiy17SW8zw1400G4%2By6voswO5ZLe4X5gA3zbGyhIBxkAjysXg8RGvLEYazcklKEvhmle2v2ZJNpOzTWklbVeTWoZjgswWY5bO1Vct4tuKlyO8XGa1hUj9mWq2UkrJr5z%2BEvxx8Xf8ABKPUpv2Z/wBrGy8Q3/wdg1ER/C34upZtd2%2BmWUp%2BTTNTMeXhaJjsjk24ZegVFGz7Y8JeL/Cnj3w3Z%2BMfA/iWw1jSdQhE1hqemXaT29xGejJIhKsPcGvjmb4uft2/sd6Jd/Db9rn4B3n7QPw3SJoE%2BIfgmxin1VrIjBTUtJc/v2C53SIdu0ZZnYk1578GPCvwg8ReILr4p/8ABFn9rnRPDWszzNceIvgX4vkmGkXzj/WD7DLi5sJAQQZIQU%2BUKpRc15GEzCpgJKhFOUVtTl7tWK7Ru%2BWrFdOWXNayTeh%2BoR4n4J8R8U/7Rq/2Zm09ZOomsPiJ21lJKLdCpNq8qlL22HnJucoUXKVv0Zor5F0j/gqXdfBzVIPB3/BQv9m/xN8H7%2BSUQxeKY4Tq3hu8cnA2XtsreWW4OxlOwH5mFfUPgH4jfD/4q%2BGLfxr8MvG%2Bk%2BIdIuhm31PRdQjuYJPYPGSMjuM5Fe/hcwweMbjSn7y3i7qS9Yu0l91vM8vPeD%2BJOG4Rq47DtUp/BVi41KM/8Fam50penOpLrBGzRRRXafMhRRRQAUUUUAFFFFABRRRQAUUUUAFFFFABRRRQAUUUUAFFFFABRRRQAUUUUAFFFFABRRRQAUUUUAFeM%2BOP%2BUhfwv8A%2ByM%2BPP8A07eEK9mrxnxx/wApC/hf/wBkZ8ef%2BnbwhQB7NRRRQAVzvxX%2BK/gH4I%2BAr34mfE3XG0/R7B4I5porOa5lklmmSCCCKCBHlnmlmljijijRpJJJERFZmAPRV5B%2B2v8ADfx98Q/hPpF98MvDLa7rHhPx/wCHfE8Ph1LuGB9Wi0/U7e4nto5J3SJZjCkhi810jMqxh3RSXUA27L9q34CX3wLuv2kU8dND4QsZJ4b69vNIu7e5trmG5NpJaSWUsS3SXQuVMH2VohMZcRhC5CnHv/25f2a9N%2BHVr8TbrxTrv2S88RPoNvo8XgTWZNcbVEhe4ezOkLaHUFmW3je4KG3BEC%2BccR/PXlfhX4E%2BO/E/7O3xQ8PfGT9n7xnbXfjvxveeONP0Dw5r%2BjLqWl3CX8EmnW8M7Xv2ZdSiNha3pLObQSybPOlAbPn3ws/Zd/am%2BDnjG2/a61P4ceNfHWt6j8ZNV8Sav4I1nxDoH/CRpp1z4VstCimeWKa20n7UsmmQyNDBKkUdvdMiM7xbZAD7c8C%2BN/CPxM8FaR8RvAHiC21bQte0yDUdG1Szk3RXdrNGskUqHurIysPY18ZfFL4x3HwN/wCCTnxn8Z6bK66jdfEX4laPpAi5kN3feONZs4ygHJZTNvA/2Ce1e%2B/stfAX4h/DH9ivwn8C/EnjO68M%2BKLXw6qalqnhk2tw%2Bk3krmaWO2N3BNBKsTyNErSQsrKgOwZAHxN4svItS8M/A79lbxV4uvtbtI/2j/iZ4z8a6vqUdus95p3h/wAU65cSSXS28UUK%2Be5ORHHGm9cKqgAV5mc1pUcsqOLtKS5V6zaivu5m/keVnUq6yypTofxKlqcLb89SUacbed5/gekf8EcPg7b%2BDvi38ZtYSJXh8HDw/wDDmylTlVuNJ09RqOD/ANNLuTzD7tX3tXyt/wAEavDmqWv7DOk/E3xJB5esfEfxHrHi3V8/xS3d5JsbPfMMcRz719U1jw/RjRyelZW5lzf%2BBNyX4cqP0/xJjQw3GWIy6h/DwapYSFtuXC0aWH09ZU6j8733bCiiivZPhQooooAKKKKACiiigAooooAKKKKACiiigAooooAKKKKACiiigAooooAKKKKACiiigAooooAKKKKACiiigAooooAK8Z/Zf/5Lf%2B0d/wBlmsf/AFCvC9ezV4z%2By/8A8lv/AGjv%2ByzWP/qFeF6APZqKKKACiiigAooooAKKKKACiiigAooooAKKKKACiiigAooooAKKKKAPMP20/i94q%2BAf7JnxD%2BMfgaO1Ot%2BH/Cl5daO99EXt4boRkRSyqCC0SOVd1yMqrDIzkcj%2Bznr/AMaD49%2BLv7M3jj446p4pvvCK6XN4e8eapo2nQ38SajYM3lzRWdvBayPBPDLIuIVzHNEjhypd/avGng3wr8RfB2rfD7x1oFrquia7ps%2Bn6xpd7EHhvLWaNo5YZFPDI6MykdwTXA%2BBf2N/gP8ADfwxqvhPwhp3ieC311bv%2B3Lu5%2BIWt3N7qLXFrFaM895NePcTSJbwQxQyPIWt1jUQmPFAHIfsUeO/if4v8afEvRdT%2BM%2BsfEjwL4e1q10zwr478QaXp1tc32pRJKmrW0bada2tvc21vMsMSzLCD5/2uIu/k8QX/wATvDfjH/gpt4L8GaTpviGG88PfB7xxHfzar4R1GxtJS%2BreEsG2urmCOC9A2nLW7yBcjcRuXPof7OX7LPwd/ZQ8Hr8P/gjbeJLPQ4bS2tbLStb8d6xrMFhBAhSKK1TUbqcWqBWxth2BgF3A7Vxzvjj/AJSF/C//ALIz48/9O3hCgD2aiiigArxj9o7/AIJ9fskftUXI1z4r/CGyOvRsHtvFeis1hqsDr91xdQFXfb1Acso9K9norGvh8Piqbp1oKUezSa/H/gPzOfE4TC42k6WIgpxfSSTX4/mrPzPjnV/2F/26vg/pc%2Bl/s0ft0P4y0CSIxv4E%2BPujLrNtcR/883v41E4THy7AmMfSvmPxx8AfiJ8GvElx468Q/sAfFb4Pa/u3XHjv9lDxYuo6ddkfxyaQWHlwDnMfyZGc1%2BsVFeJiuHMJXS5JyjbZP30vTm96P/btSJ15Fj%2BJOEpylw/mVfCqekoKSqUZrtOjWVSnNeTT8rH5Z/Cz/grN%2B0H8OdR/4R2L9oH4a/GS3tWCXGi%2BPIH8AeKIiP8AlmzXarYO2P7ru7H3PP0X4L/4LRfs2rHaw/tE%2BAPHHwqlunEcN/4m8PyXOlXL/wDTC%2BtPNjlX/bIVa%2Blvih8CPgl8btPGl/GL4ReGvFMCrtSPxBocF3sH%2ByZUJU%2B4wRXzz4x/4IrfsJa3Nc6h8PfCviX4eX14hW4vvAHi67smYenlu8kIHsI8VyfUeJ8F/u9eNSPad/zldr/wNn0j4xWO0zzJcNXl1q4Sc8BVfm6fLiMHJ/8AcKkn5dPob4WfHf4KfHDSxrXwc%2BLXhzxRbbAzSaDrMN1sH%2B0I2JQ%2BoYAjvXV1%2BYvxD/4NzgurReI/gv8AtbXVhdWcjSWa634ThFwznPzPe2MlvIW55YqSTzVTRv2SP%2BDgb9mL5PhJ%2B1Fovj7T43/dabqniH7aWjHSPGqwho/bZNwOM1pHOs6w%2BmLwEvWm1NfddM5a9TgnELmoV8Vhn/LXwyqxX/cbBVaifq8PH0P1For859F/4KJ/8Fjvgxi3/aQ/4JeXHiiKH5ZrvwE8pkI7ufszXqMe/AUH2rr/AA9/wX2/Zb028h0X9oD4OfE/4aXzcTf8JH4VLwIe4BjYyt/36FdUOJcoelWTpvtUhKH4uNv/ACY8LEVsrofDjaMl/j5H/wCA1oUJL01Z900V8/8Aw3/4Kqf8E7PiqjP4W/a78HW%2B0Z2eIb86Qx9gt%2BsJY%2Bwya9k8GfE/4afEe0GofDz4h6Fr0DDIn0XVobpCPrEzCvVoY3B4lXo1Yy9JJ/k/0MaeIw9X%2BHOMvSUX%2BUmblFFFdJsFFFFABRRRQAUUUUAFFFFABRRRQAUUUUAFFFFABRRRQAUUUUAFFFFABXjPjj/lIX8L/wDsjPjz/wBO3hCvZq8Z8cf8pC/hf/2Rnx5/6dvCFAHs1FFFABRRRQAUUUUAFfi5rPjrVblv2w/jLJDJs%2BHL%2BLvhr4aQDPnXviDxzq807xAf8tFjuNpI5CkV%2B0dflTY/B%2B2jj8JfBCPZJd/Gr9vvx54s1uJfmabStG8RakksJ/2dkEb%2BgLH1NfPcS0qtXAJQ7/i04R/8mqX%2BR9PwHldPNPEPJ3XV6GHr/Waq7wwtOriGn86S%2B9H6T/s/fDOD4MfAnwZ8IrZFC%2BGPCun6X8vQmC3SIt7klSSe5NdfRRXvU6caVOMI7JJL0SSX5HgYzFV8di6mJrO86kpTk%2B8pSlKT%2Bbk2FFFFWc4UUUUAFFFFABRRRQAUUUUAFFFFABRRRQAUUUUAFFFFABRRRQAUUUUAFFFFABRRRQAUUUUAFFFFABRRRQAUUUUAFeM/sv8A/Jb/ANo7/ss1j/6hXhevZq8Z/Zf/AOS3/tHf9lmsf/UK8L0AezUUUUAFFFFABRRRQAUUUUAFFFFABRRRQAUUUUAFFFFABRRRQAUUUUAFFFFABXjPjj/lIX8L/wDsjPjz/wBO3hCvZq8Z8cf8pC/hf/2Rnx5/6dvCFAHs1FFFABRRRQAUUUUAFFFFABRRRQAUy5tba9ge1vLdJYpBh45UDKw9CDwafRQB5T47/YU/Yu%2BJq3B8c/sp/D6/muv9feP4StEuT7idIxIp9wwNeHePP%2BCDX/BNjxijSaJ8JdW8L3JOReeHfFV4rqfVVuJJY1/BK%2Bx6K86vlGVYr%2BLQhL1jG/3pJ/ic8sJgpyvOjCX%2BKEJffzQlf5n5%2Bat/wQr8S%2BFQf%2BGdf%2BCkvxk8HbB%2B4S61V7kJ6D/RpbWuZ1T/AIJ6f8Fvfhw5f4S/8FMIPEUMX3U8S6hdLM49hPBdLn6tj3r9KaK8%2BfDGUv8Ahc9P/BUqR/Dma/A78O8ro/HgMPP1puD%2B%2BjWov7kflne3n/Byz8LrktqMuneLNPi6z2Fj4euWx7IPs8z/AJZrJv8A/gpn/wAFrPhlcCDxz%2ByknkJ/rtR8QfCDWFth6/vdPuZFz9BX6xUVzy4cxUP4GPrR9ZKX5q569KvwVP8A3jKZL/rzjsbS%2BdqjxUb/AIeR%2BUel/wDBfX9oTSr4aP418H/CD7eB%2B8spbnXtJcfU3lqUX8Wr0fwh/wAFuvjN4g2Jb/sr/DPVy3T%2Byf2mtAhmP%2B7b3AWU/lX6FazoGheI7Q6f4h0S0v4D1gvbZZUP/AWBFea%2BL/2Fv2LfH29/F/7J/wAO76R/vXEng6zE3/fxYw4/Op/sriSl8GN5vWNv/bZG6wPhrX%2B3meHf92vgsQvurYWjK3/b1/M8M8O/8FPf2iNbg%2B0p/wAEzPHt/GBlpPC/ivTNWXHqDC/Naf8Aw9Q8TaZx4o/4JmftOW5H3m074cJeKPxS4HFaniP/AIIxf8E1PEk/2x/2ZbPT7hTmO40XXtRsmjPqBDcKv6Vl/wDDnj4IaN/yTL9pH47%2BCwP9Wvhf4p3MQj%2BnmpJR7Hiun9tS9HT/APboR/MP9WeCa/8AA4kxVL/r9l1Ga%2B%2BhiU3/AOAoP%2BHwXwgs/wDkZf2Vf2gdFx97%2B1PhROm367JGo/4fU/sU2n/IwR/EHScfe/tH4c6iu367Ymo/4dzftLeG/wDkm3/BVT4xWu3/AFf/AAlEdnrOPr5qJupf%2BGZP%2BCsfhn/kXv8Agpn4d8Qqv3IvEnwdsrbj0L20hJ%2BvWj2/EsPii/lClL8qsfyD/UXD1f8AdeK8I/8Ar7hMVSf4QqRX/gQsP/BcT/gmN5gg1D9oq4sZT/yzvfBOsoR/5KEfrWtYf8Fl/wDgmZqWPs/7V%2BkLn/n40m/i/wDQ7cVizaJ/wW40GMxQ%2BJv2a/FMA%2B8NU0/WrSZx7CLKA/Xisq/8Tf8ABUywz/wlv/BPH4LeLcfe/sXxoltv%2Bn2yM4/Gj%2B0c5h8aa9cPP/22rL8g/wCIbcVT/wB2zvK6v/cfkf3VPZ2%2B89Hsv%2BCr3/BObUMeR%2B154QXP/Pe8eL/0NRWvZ/8ABSn/AIJ/X2DD%2B2T8OVz/AM9vFdtH/wChuK8Jvfir%2B0ra5HxG/wCCD2myKPvyaP4x8P6nu9wogB/Csm8%2BO/wZtQf%2BFi/8EGfiCMf6z%2ByPg5pOq/ls25o/tnGx%2BKcF/ipYiP8A7aw/4hd4qS/gfUq3/XvE0JfljEfUFp%2B31%2BwvfY%2By/tm/Cpiei/8ACwdNB/IzZrStf2x/2Q77H2L9qn4bzZ6eV4409v5TV8c3f7RH/BLBAf8AhPv%2BCS3ifw6f421z9mm2iZfqY0Y1m3P7SX/Bvfu2eMvgP4X8PMTgrqnwWvYCD6furM4o/t6ot6%2BHXq6sf/SooP8AiFXjd/y7yj2n/XuNSp/6anV/C591W37S37ON7j7H%2B0B4Jmz08rxXZtn8pK0Lb41fBu8/48/i14Zlz08vXrdv5PXwjYeN/wDg3B8T4%2Bz2Hwsi3f8APfw7eWn/AKHEmK2bH4Xf8G7nibBt9R%2BCcW7/AJ7%2BLhaf%2Bh3CYraGcYifw1MO/wDuK/8AI83E8B%2BMOD/j5LUj60cWv/deR9yW/wAQPAd5j7J420iXPTy9Sib%2BTVet9Y0i7/49NVtpc9PLnVv5GviWx/Ym/wCCC3inH9j2fwjvN3T7B8TSc/Ty76tey/4JOf8ABGjxNj%2ByPhH4Xu93T7D8RNROf%2B/d9XVDG5nP4Y0X6VX/APIs8PEZZx5hP4%2BXqP8Ai9vH/wBKwyPszr0or5Ih/wCCH3/BL6WMTaT%2Bz9cQqej2njvWcfn9sNO/4cjf8E9I/wDjx%2BHPiS19Ps/j/Vhj87g1t7fOv%2BfEP/Bj/wDlZ5zxHEUXZ4an/wCDpfrSPrWvGfHH/KQv4X/9kZ8ef%2BnbwhXmH/DlX9iKP/jzg8eW/p5PxF1IY/OU1U%2BCn7F/wg/ZC/4KF%2BDB8J9S8TzjxD8GfGX25fEXiW41EJ5GreFdnlecx8vPnPux97C5%2B6K1oVszlVSq0Yxj1anf8ORX%2B82w2IzidZRr4eMY9WqnM18uSN/vPsCiiivQPUCiivn7/gpcdMH7Ndr/AMJp5f8AwhX/AAsLwv8A8LI%2B0f8AHv8A8I9/bNp9t%2B1Z4%2Bx%2BX/x87v3f2bz/ADP3e%2BgD6Bor879R8UfDl/8AgmZ8aPBHwx8T6fD4Km8cX7/Du30e4jazsfCk%2BtwW5v8AyEyX0CO5%2B3u4jAhewilSJhGUI8Yk0n4V3Hw9svBOpfEv4JWXgCL9obXZrDx3rng2Kb4PXq/8IlaMkdro7XyQxDz5pY40F%2ByC/tNQmEjyP9mAB%2Bu9fnF%2BxZ/xdv8A4KZLpg/e2Hwi/wCFo6hv6%2BTqeqeP9ag2exa1G7PtX1P%2BxJqHxCt/%2BCdHwru/CXhCa68RQfDDR47LSvHXiGe3e4lS0iQG6vBaSSrvA37zbbvmGY1OQPnP/ghx4G8U3XxC/an%2BO3jzRrSy1fWv2hvEmhz2ljfvd29q9jq1/LNHBNJFC0sXm3jASGKMvsyUU5UeXmUJVquHpLZ1E36QUpfnyn3XBeJo5dgs4xsnaccJOnD/ABYipRoP7qbq/e%2B5%2BgVFFFeofChRRRQAUUUUAFFFFABRRRQAUUUUAFFFFABRRRQAUUUUAFFFFABRRRQAUUUUAFFFFABRRRQAUUUUAFFFFABRRRQAUUUUAFeM/sv/APJb/wBo7/ss1j/6hXhevZq8Z/Zf/wCS3/tHf9lmsf8A1CvC9AHs1FFFABRRRQAUUUUAFFFFABRRRQAUUUUAFFFFABRRRQAUUUUAFFFFAHn/AO1X8arn9nP9m/xt8cdP0FNVvPDHhy6vtP0yWYxR3d0qHyIXcAlEaUorOASqknBxivMNB/a1%2BKPwl8D/AB0P7TEHh7Xdb%2BCPhseJLnUPBWk3Gm2mr6a%2BlyXqKtvc3N08EyyW11CczSBgkcg27zGntvxc%2BFng344fCzxF8G/iHYSXWheKdFudK1aCGZopGt54mjfY64aNwGJV1IKsAQQQK898AfsXeE/CeleKtM8a/Fbxf47fx7FPB49u/GH9mtJ4gt3so7GO3mFpZW6RRQwRsqJbrCC00zyeY7lqAM79lr42fH7xD8VPE3wG/aVHhG58RaN4K8O%2BK7XUvBelXNlaC11WTUoDZNHc3Nw7y28%2BlzZnDosqTRkRRkMtZt/8XPhR45/4KbeC/AXgn4neHtY13wx8HvHEXiXRdK1qC4u9JeTVvCXlrcwxuXgLbHwHCk7Tjoa7T9nH9lHw7%2Bzpf6v4hHxP8XeNNc1nTNN0qfxD41urSW7j0zTlnFjYobS2t0MUTXV04Z0aV3uZGkkcnI4P9o/V/jXo/wC3h8J5/gd8P/C3iLUm%2BEfjtbu08V%2BMLnRYI4P7U8JEuktvp96zvu2jYY1GCTvyApAPo%2BivGf8AhOP%2BChf/AEa/8Gf/AA/Grf8AzL0f8Jx/wUL/AOjX/gz/AOH41b/5l6APZqK8Z/4Tj/goX/0a/wDBn/w/Grf/ADL0f8Jx/wAFC/8Ao1/4M/8Ah%2BNW/wDmXoA9morxn/hOP%2BChf/Rr/wAGf/D8at/8y9H/AAnH/BQv/o1/4M/%2BH41b/wCZegD2aivnH43ftHft2/Af4MeL/jj4q/ZQ%2BEl1pfgzwvqGu6lbaf8AHXVGnmgtLaS4kSMP4YVS5WMhQzKMkZIHNdR/wnH/AAUL/wCjX/gz/wCH41b/AOZegD2aivGf%2BE4/4KF/9Gv/AAZ/8Pxq3/zL0f8ACcf8FC/%2BjX/gz/4fjVv/AJl6APZqK8Z/4Tj/AIKF/wDRr/wZ/wDD8at/8y9H/Ccf8FC/%2BjX/AIM/%2BH41b/5l6APZqK8Z/wCE4/4KF/8ARr/wZ/8AD8at/wDMvR/wnH/BQv8A6Nf%2BDP8A4fjVv/mXoA9mor5x%2BEX7R37dvxl8KXfi/wAOfsofCS2t7PxRrehSR3vx11RXM%2Bl6rdaZO42%2BGGGxprSRkOclGUkKcqOo/wCE4/4KF/8ARr/wZ/8AD8at/wDMvQB7NRXjP/Ccf8FC/wDo1/4M/wDh%2BNW/%2BZej/hOP%2BChf/Rr/AMGf/D8at/8AMvQB7NRXjP8AwnH/AAUL/wCjX/gz/wCH41b/AOZej/hOP%2BChf/Rr/wAGf/D8at/8y9AHs1FeM/8ACcf8FC/%2BjX/gz/4fjVv/AJl65fVv2jv27dH%2BM%2BgfA64/ZQ%2BEjap4i8L6vrtncp8ddU8iODTrnTbeZHJ8Mbg7NqkBUBSCEkyVIUMAfR1FeM/8Jx/wUL/6Nf8Agz/4fjVv/mXo/wCE4/4KF/8ARr/wZ/8AD8at/wDMvQB7NRXjP/Ccf8FC/wDo1/4M/wDh%2BNW/%2BZej/hOP%2BChf/Rr/AMGf/D8at/8AMvQB7NRXjP8AwnH/AAUL/wCjX/gz/wCH41b/AOZej/hOP%2BChf/Rr/wAGf/D8at/8y9AHs1Iyq6lHUEEYII6185fF39o79u34NeFLTxf4j/ZQ%2BElzb3nijRNCjjsvjrqjOJ9U1W10yBzu8MKNizXcbOc5CKxAY4U9R/wnH/BQv/o1/wCDP/h%2BNW/%2BZegD0jWPhZ8MfEWf%2BEg%2BHOg327732zR4Zc/99Ka5XWP2OP2RPEOf7f8A2V/hvfbvvfbPA9hLn/vqE1g/8Jx/wUL/AOjX/gz/AOH41b/5l6P%2BE4/4KF/9Gv8AwZ/8Pxq3/wAy9Yzw2GqfHCL9Yp/mmelhs5znB/7viqsP8NWpH/0mpErat/wTV/4J/a1n7Z%2Bxx8O0z1%2ByeFre3/8ARSriua1T/gj7/wAE1tYz9r/ZN0BM9fst3dwf%2Bi5lxXXf8Jx/wUL/AOjX/gz/AOH41b/5l6P%2BE4/4KF/9Gv8AwZ/8Pxq3/wAy9cs8pyqp8WHg/wDtyP8A8ie5h/EDj3C/wc2xUfTEV/8A5azzSb/giD/wTPEhuNK/Z%2Bu9NlPWXT/G2sRn8vtZH6U3/hzB%2Bx7af8i7rvxK0fH3f7M%2BJGoLt%2Bm52r03/hOP%2BChf/Rr/AMGf/D8at/8AMvR/wnH/AAUL/wCjX/gz/wCH41b/AOZesv7CyXph4L0il%2BVj0V4reJlrSznEy/xVZT/9LUzzL/h0L8MbX/kX/wBr79onScfd/s74sTLt%2Bm6JqpfBX9lF/wBmD/goX4LT/hpT4rfEKPW/gz4z8tfid4u/tY6d5OreFc/Zj5SeWH80b%2Bu7yo%2Bm3nsvhF%2B0d%2B3b8ZfCl34v8OfsofCS2t7PxRrehSR3vx11RXM%2Bl6rdaZO42%2BGGGxprSRkOclGUkKcqNnwP4H/as8Y/tWeHPjd8bvhx8PfDOjeGfh74h0OGHwr8Q77Wrq7utSvtEuEZkuNIsUijRNLlBYO7FpUAXGSNaGVZdhqqqUqfK12cvy52vwODNOP%2BMc7wM8Hj8Y6lOdrqUKN3Zpr3lh4zWqW1RX2d1dP3WiiivQPjwooooAKKKKACvBf%2BCdPhDR/CnwX8YXOlRESax8eviVqF87Yy8zeMtXjzx6JGi/RRXvVfJX7JXiz9s7T/AIe%2BKLP4Y/AP4YavoSfGn4i/2fqOvfF3UdNu5l/4TPWSxktotAuUiIbcABM%2BQAcgnaE4ptN9DSNWpCEoRdlK113s7q/o9fU%2BtaK8Z/4Tj/goX/0a/wDBn/w/Grf/ADL0f8Jx/wAFC/8Ao1/4M/8Ah%2BNW/wDmXpmZ7NRXjP8AwnH/AAUL/wCjX/gz/wCH41b/AOZej/hOP%2BChf/Rr/wAGf/D8at/8y9AHs1FeM/8ACcf8FC/%2BjX/gz/4fjVv/AJl6P%2BE4/wCChf8A0a/8Gf8Aw/Grf/MvQB7NRXzjq37R37duj/GfQPgdcfsofCRtU8ReF9X12zuU%2BOuqeRHBp1zptvMjk%2BGNwdm1SAqApBCSZKkKG6j/AITj/goX/wBGv/Bn/wAPxq3/AMy9AHs1FeM/8Jx/wUL/AOjX/gz/AOH41b/5l6P%2BE4/4KF/9Gv8AwZ/8Pxq3/wAy9AHs1FeM/wDCcf8ABQv/AKNf%2BDP/AIfjVv8A5l6P%2BE4/4KF/9Gv/AAZ/8Pxq3/zL0AezUV4z/wAJx/wUL/6Nf%2BDP/h%2BNW/8AmXrl/i7%2B0d%2B3b8GvClp4v8R/sofCS5t7zxRomhRx2Xx11RnE%2Bqara6ZA53eGFGxZruNnOchFYgMcKQD6Oorxn/hOP%2BChf/Rr/wAGf/D8at/8y9H/AAnH/BQv/o1/4M/%2BH41b/wCZegD2aivGf%2BE4/wCChf8A0a/8Gf8Aw/Grf/MvR/wnH/BQv/o1/wCDP/h%2BNW/%2BZegD2aivGf8AhOP%2BChf/AEa/8Gf/AA/Grf8AzL0f8Jx/wUL/AOjX/gz/AOH41b/5l6APZqK8Z/4Tj/goX/0a/wDBn/w/Grf/ADL1y/wi/aO/bt%2BMvhS78X%2BHP2UPhJbW9n4o1vQpI73466ormfS9VutMncbfDDDY01pIyHOSjKSFOVAB9HUV4z/wnH/BQv8A6Nf%2BDP8A4fjVv/mXo/4Tj/goX/0a/wDBn/w/Grf/ADL0AezUV4z/AMJx/wAFC/8Ao1/4M/8Ah%2BNW/wDmXo/4Tj/goX/0a/8ABn/w/Grf/MvQB7NRXjP/AAnH/BQv/o1/4M/%2BH41b/wCZej/hOP8AgoX/ANGv/Bn/AMPxq3/zL0AezUV846T%2B0d%2B3brHxn1/4HW/7KHwkXVPDvhfSNdvLl/jrqnkSQajc6lbwohHhjcXVtLnLAqAA8eCxLBeo/wCE4/4KF/8ARr/wZ/8AD8at/wDMvQB7NRXjP/Ccf8FC/wDo1/4M/wDh%2BNW/%2BZej/hOP%2BChf/Rr/AMGf/D8at/8AMvQB7NRXjP8AwnH/AAUL/wCjX/gz/wCH41b/AOZej/hOP%2BChf/Rr/wAGf/D8at/8y9AHs1FeM/8ACcf8FC/%2BjX/gz/4fjVv/AJl65f4u/tHft2/BrwpaeL/Ef7KHwkube88UaJoUcdl8ddUZxPqmq2umQOd3hhRsWa7jZznIRWIDHCkA%2Bjq8Z/Zf/wCS3/tHf9lmsf8A1CvC9H/Ccf8ABQv/AKNf%2BDP/AIfjVv8A5l6t/srfDn40%2BD9Y%2BKHjv46aB4X0nVPH3xCi1yz0rwn4ludWt7W1i0HR9MVXuLiys2aRpNOlcqItoWRBuY5wAet0UUUAFFFFABRRRQAUUUUAFFFFABRRRQAUUUUAFFFFABRRRQAUUUUAFFFFABXyv%2B09%2B1p8XPhh8Y/FmteAfDvg%2BTwx8H/D/h%2B98anWtIuJtV1S31e/lS5gsLiO4jSy8i2s47jMkU4uZCkZEPl%2BafqivGfjP%2BxD8OPjd8Uj8TNc8c%2BKtLi1G10i18X%2BGtGurVNO8UwaXeyXtjFfLLbyTBY5ppc/Z5YDLHIYpjLGFQAHs1FFFABRRRQAUUUUAeD/ALffxe%2BL3wl8D%2BD4fhX4etbuz8T%2BNTo3jO/vfhZq/jKLS9HbSdSuHnbTNJmiuJVa4trW3LFjGouSWB4x6p8HfG%2Bm/Er4T%2BGviBpHjjSPE1vrOh2t2niHw/aNb2OpF4lY3EETyytDG5JZY2kkZAQrOxBJr/F34ceK/iVodtpPhH46%2BLPANxBdebJqnhG30qWedNjKYXXU7K7i2ZYNlY1cFFwwGQZPgr8IfBvwD%2BFOg/Bz4fxXK6R4e09LSza%2BuWmnlAyWllkbl5HYs7N3ZicDpQB1FFFFABRRRQAV4v8Atk/F344fBK18A%2BMfhZe%2BFP7G1D4meHPD3i%2Bx8QaLc3N1c2uq6zY6aDZyw3UKW0ka3Msm%2BRJ1JRF2ck17RXlX7V37Lb/tVeG9C8Lz/H3xv4Gt9C8SWGuo3guHR2e7vbG8gvLNpTqWn3g2xXFvG4WMIG5WTep2gA8s%2BFP7Wnxc1H41eHftfh3wha/DPx98Y/GXw%2B8N6XpmkXEOr2Wq6L/bMs%2BoXNybgwTx3M2haqfKW3jdDLAxlkLPX1RXifw%2B/YX%2BH3w/%2BMNr8Wk%2BJXjDVYdN1vUte0XwnqlxY/2Vpmt6jE8eoarCkNpHMLi4E92zK8rQo19cmOKPzOPbKACiiigAooooA5r4xSfE2H4ZaxP8HNa0HTvEsVrv0y98TaVNfWMRVgXMsEE9vJKPLD4VZY/mK5bGa%2BRtO/bu%2BN%2BsJ8Cvin41u/CPgnwz41%2BCmheJfFHjS/8Ag7rmtWFtqOpPatPpy6jbXsUGiwMNhWS8d1ysZYvs5%2BwfiZ4O1T4g%2BA9T8F6N8QdZ8K3Go2/kp4g8Pw2cl5ZgkFmiW9t7i3JIBU%2BZC4wxwAcEeFaV/wAE3tOtP2f/AA/%2Bytrv7XnxZ1n4eaJ4YtvDl54Xvx4djj1rSYAI0s7qa20eKcIYFWBmgkhd4x8zMxZiAfSVFFFABRRRQAUUUUAfJf7d37Xfxi/Y11pfHfjGLwL4z8Fy2Wt6zB8P7Lw3dRa9aWGi6Hc6tLqrXz3kkDxxXVpbxH/RIgjXtviYybEk9I/Zn%2BL/AMfNU%2BLnjL9nX9pZ/CV54o8MeGPD3iWPVfBWk3NjZSWWrPqVutsYbm5uXMsNxpF2DKJAsiPE3lxnctZ3ib/gn74S8afHHxz8ZvF/x28eapZ/EXQhoPijwTqEWizaVLov2V7c6XC76ab22tWMsszJFdIXmld2Y5AHXfs7/su6H%2Bz7fa14jn%2BKHi3xv4h1%2B1sLK/8AE/ja5tJL02Fiki2dmPsltbx%2BVEZ7hwShkd7mV3d2bNAHp9FFFABRRRQAV4f%2B3d8XPjx%2Bz98GtX%2BOvwo8Y%2BBbHT/C2i3N5e6L4s8M3t/c%2BIb3KLZ6ZZyW17B9nmuJSLdG8q6ZpZ4gsLH5W9wrx79pX9kGD9pLx54I%2BIE37QPjvwhc%2BAbu5vdFsfDEWjT2cl7KgjW8mg1PTrxHnhj8xYZAFMYnlI%2BZsgA88/Zj/af%2BK/ir9pbxJ8Hvi/PoHgi1/wCEh1iPwf4HuPhLrGnXesQxFJnu4Ncnu/7P1GTMk0ksdtAX%2B85KgMx%2BpK8n039lNZvjRo3xo%2BInx88deMpfDF5eXnhLQNf/ALKi0/Rbq5t5LaSeIWNhbzSuLeaeFftEswVJ3wASCPWKACiiigAooooAKKKKAKPijxDYeEvDWo%2BK9VDm10yxmu7kRLlvLjQu2B3OFNfOf7E37Sfxr8f%2BKdH8GfGzw94Msx46%2BFtl8RvDMPgzSri0GmR3lwTd6fdma4lF3NG9zbP9sQQCdpZiYI9oL/S13aWt/ay2N7bpNDNG0c0UqhldSMFSDwQRxivIf2Zv2K/AX7MGqvq%2BgfEHxb4lltvDFj4Z8OjxZe2sw0DQrN5Ht9NtTb28JaNTJ80s5muJBHF5kz%2BWuAD2KiiigAooooAKKKKAPmPQ/wBpX4mSft/698H/AIn6x4e8L%2BG9P8QJonw/i1X4RayLrxTBNoFlqMwtPEb3a6cJftZuA1okLyNHprDbkeYn05Xlfiz9lqDx/wDGTSPin49%2BN/jXV9K8Pa7HrWgeALg6ZFo1jqEdu8Ec4aGyS9l2eZJIqTXUkYkfds%2BRAvqlABRRRQAUUUUAFfI/xc/ax/aE%2BGvxB%2BMPwz8ZaR4A186HdfD3/hVqxeH7uFLa68TeJLvR7H%2B0zJdyfavs1xb2lwzwLbH74UKQrj64r538bf8ABOzw98Rvin48%2BJ/jT9pf4l3q%2BPtM0yzutBA0KGz0n%2By72e%2B0mezeLS1uUmsrq4kmieSeTc23zhMFUAA7D9lX4v8AxI%2BIw8f/AA%2B%2BMR0SfxV8NPHjeGtZ1Xw1p01nYan5ml6dq1vcQ28088lvm11S3R42mlxJHJhiCMesVwvwD%2BAuh/APw9q2m2Xi/XPEmreItem1rxP4o8SvbG/1e%2Bkjih86YWsEEC7IILeBEiijRY4I1C8EnuqACiiigAooooA8X/bJ%2BLvxw%2BCVr4B8Y/Cy98Kf2NqHxM8OeHvF9j4g0W5ubq5tdV1mx00GzlhuoUtpI1uZZN8iTqSiLs5Jri/2ef2lfiZrf7VXi34I/FDV/D3hPTofFOt2/gnwlJ8ItZ0y5162hdJTf2%2BtXF39g1B2Mk0ssVtAX5LsVwxPo/7V37Lb/tVeG9C8Lz/H3xv4Gt9C8SWGuo3guHR2e7vbG8gvLNpTqWn3g2xXFvG4WMIG5WTep2iLSf2UQ/xk0X4y/Ef9oDx341m8L3d5d%2BE9C8QjSYbDR7q5t5LWS4iWw0%2B2llf7PNPCvnySqizvtAJBAB61RRRQAUUUUAFZvjKLxhP4U1GH4fX2m2uuPZyLpNzrNpJPaRXBU7HmijkjeRAcEoroWAwGXORpVg/FLwPdfEz4ba98O7Px5r3heXXNIuLBPEfhe4ih1LTfNjKfaLWSWORI5k3bkdkYKwBwcUAfInhT9rj9r34gfHXV/wBmX4Zz/Ce%2B8b2V54gX/haD%2BDNQTRda0/QrfRvPso7NdSMyTxal4hFm8n2yaKJre6OwyB4U%2BpP2bPjNp/7R37OngH9obStIk0%2B18eeCtK8RW1hNJue2jvbOK5WJmwMlRKFJwM4rx7Q/%2BCZ/hjwz8OvDHgHw5%2B1H8UNNuPBdheaX4W8R6VF4ds7/AE7SbuGKO701fI0hIHhmaCCZpJImuBNCkizKwzXv/wAPvAfhP4WeAtE%2BGPgPR49O0Pw5pFtpei6fESUtrS3iWKGJc5OFRFUZ9KANeiiigAooooAK%2BNP2qv2of2yPgt401/4Z6LpPw/8AiLqMng668VaJovh/4batd3fhhbfWLCCwe%2Bt4tQlfUzMs1w8QgW0kaXTZTErhHMX2XXgHgX9hHVvht4q8e%2BM/B/7aHxZt7/4h61Nqur3E1r4Ynlt7hnQwiGWXRWlMVvDGttDDK8sUcOV2FvnoA7b9lT4tzfGX4UjxNqPxO0bxTqNrqtzY6tdaP4Iv/DZs7iJvmtZ9M1G4nurSdFK7kmYMQyttVWFek1wnwD%2BAegfAHQtZsdP8W654j1XxN4gl1zxP4m8SS27Xuq38kMMHmyC2hhgjCwW9vCqRRRoqQoAuck93QAUUUUAFFFFABRRRQAUUUUAFFFFABRRRQAUUUUAFFFFABRRRQAUUUUAFFFFABRRRQAUUUUAFFFFABRRRQAUUUUAFFFFABRRRQAUUUUAFFFFABRRRQAUUUUAFFFFABRRRQAUUUUAFFFFABRRRQAUUUUAFFFFABRRRQAUUUUAFFFFABRRRQAUUUUAFFFFABRRRQAUUUUAFFFFABRRRQAUUUUAFFFFABRRRQAUUUUAFFFFABRRRQAUUUUAFFFFABRRRQAUUUUAFFFFABRRRQAUUUUAFFFFABRRRQAUUUUAFFFFABRRRQAUUUUAFFFFAH//Z\">"
      ]
     },
     "metadata": {},
     "output_type": "display_data"
    }
   ],
   "source": [
    "s.run(tf.global_variables_initializer())\n",
    "\n",
    "BATCH_SIZE = 512\n",
    "EPOCHS = 40\n",
    "\n",
    "# for logging the progress right here in Jupyter (for those who don't have TensorBoard)\n",
    "simpleTrainingCurves = matplotlib_utils.SimpleTrainingCurves(\"cross-entropy\", \"accuracy\")\n",
    "\n",
    "for epoch in range(EPOCHS):  # we finish an epoch when we've looked at all training samples\n",
    "    \n",
    "    batch_losses = []\n",
    "    for batch_start in range(0, X_train_flat.shape[0], BATCH_SIZE):  # data is already shuffled\n",
    "        _, batch_loss = s.run([step, loss], {input_X: X_train_flat[batch_start:batch_start+BATCH_SIZE], \n",
    "                                             input_y: y_train_oh[batch_start:batch_start+BATCH_SIZE]})\n",
    "        # collect batch losses, this is almost free as we need a forward pass for backprop anyway\n",
    "        batch_losses.append(batch_loss)\n",
    "\n",
    "    train_loss = np.mean(batch_losses)\n",
    "    val_loss = s.run(loss, {input_X: X_val_flat, input_y: y_val_oh})  # this part is usually small\n",
    "    train_accuracy = accuracy_score(y_train, s.run(classes, {input_X: X_train_flat}))  # this is slow and usually skipped\n",
    "    valid_accuracy = accuracy_score(y_val, s.run(classes, {input_X: X_val_flat}))  \n",
    "    simpleTrainingCurves.add(train_loss, val_loss, train_accuracy, valid_accuracy)"
   ]
  },
  {
   "cell_type": "markdown",
   "metadata": {},
   "source": [
    "# Submit a linear model"
   ]
  },
  {
   "cell_type": "code",
   "execution_count": 24,
   "metadata": {
    "collapsed": true
   },
   "outputs": [],
   "source": [
    "## GRADED PART, DO NOT CHANGE!\n",
    "# Testing shapes \n",
    "grader.set_answer(\"9XaAS\", grading_utils.get_tensors_shapes_string([W, b, input_X, input_y, logits, probas, classes]))\n",
    "# Validation loss\n",
    "grader.set_answer(\"vmogZ\", s.run(loss, {input_X: X_val_flat, input_y: y_val_oh}))\n",
    "# Validation accuracy\n",
    "grader.set_answer(\"RMv95\", accuracy_score(y_val, s.run(classes, {input_X: X_val_flat})))"
   ]
  },
  {
   "cell_type": "code",
   "execution_count": 25,
   "metadata": {},
   "outputs": [
    {
     "name": "stdout",
     "output_type": "stream",
     "text": [
      "Submitted to Coursera platform. See results on assignment page!\n"
     ]
    }
   ],
   "source": [
    "# you can make submission with answers so far to check yourself at this stage\n",
    "grader.submit(COURSERA_EMAIL, COURSERA_TOKEN)"
   ]
  },
  {
   "cell_type": "markdown",
   "metadata": {},
   "source": [
    "# MLP with hidden layers"
   ]
  },
  {
   "cell_type": "markdown",
   "metadata": {},
   "source": [
    "Previously we've coded a dense layer with matrix multiplication by hand. \n",
    "But this is not convenient, you have to create a lot of variables and your code becomes a mess. \n",
    "In TensorFlow there's an easier way to make a dense layer:\n",
    "```python\n",
    "hidden1 = tf.layers.dense(inputs, 256, activation=tf.nn.sigmoid)\n",
    "```\n",
    "\n",
    "That will create all the necessary variables automatically.\n",
    "Here you can also choose an activation function (remember that we need it for a hidden layer!).\n",
    "\n",
    "Now define the MLP with 2 hidden layers and restart training with the cell above.\n",
    "\n",
    "You're aiming for ~0.97 validation accuracy here."
   ]
  },
  {
   "cell_type": "code",
   "execution_count": 38,
   "metadata": {
    "collapsed": true
   },
   "outputs": [],
   "source": [
    "# write the code here to get a new `step` operation and then run the cell with training loop above.\n",
    "# name your variables in the same way (e.g. logits, probas, classes, etc) for safety.\n",
    "### YOUR CODE HERE ###\n",
    "# Compute predictions\n",
    "logits_1 =  tf.layers.dense(input_X, 256, activation=tf.nn.sigmoid)### YOUR CODE HERE ### logits for input_X, resulting shape should be [input_X.shape[0], 10]\n",
    "logits_2 =  tf.layers.dense(logits_1, 256, activation=tf.nn.sigmoid)\n",
    "logits = tf.layers.dense(logits_2, 10)\n",
    "probas = tf.nn.softmax(logits) ### YOUR CODE HERE ### apply tf.nn.softmax to logits\n",
    "classes = tf.argmax(probas, axis=1) ### YOUR CODE HERE ### apply tf.argmax to find a class index with highest probability\n",
    "\n",
    "# Loss should be a scalar number: average loss over all the objects with tf.reduce_mean().\n",
    "# Use tf.nn.softmax_cross_entropy_with_logits on top of one-hot encoded input_y and logits.\n",
    "# It is identical to calculating cross-entropy on top of probas, but is more numerically friendly (read the docs).\n",
    "loss = tf.reduce_mean(tf.nn.softmax_cross_entropy_with_logits(labels=input_y, logits=logits)) ### YOUR CODE HERE ### cross-entropy loss\n",
    "\n",
    "# Use a default tf.train.AdamOptimizer to get an SGD step\n",
    "step = tf.train.AdamOptimizer().minimize(loss) ### YOUR CODE HERE ### optimizer step that minimizes the loss"
   ]
  },
  {
   "cell_type": "markdown",
   "metadata": {},
   "source": [
    "# Submit the MLP with 2 hidden layers\n",
    "Run these cells after training the MLP with 2 hidden layers"
   ]
  },
  {
   "cell_type": "code",
   "execution_count": 33,
   "metadata": {
    "collapsed": true
   },
   "outputs": [],
   "source": [
    "## GRADED PART, DO NOT CHANGE!\n",
    "# Validation loss for MLP\n",
    "grader.set_answer(\"i8bgs\", s.run(loss, {input_X: X_val_flat, input_y: y_val_oh}))\n",
    "# Validation accuracy for MLP\n",
    "grader.set_answer(\"rE763\", accuracy_score(y_val, s.run(classes, {input_X: X_val_flat})))"
   ]
  },
  {
   "cell_type": "code",
   "execution_count": 34,
   "metadata": {},
   "outputs": [
    {
     "name": "stdout",
     "output_type": "stream",
     "text": [
      "Submitted to Coursera platform. See results on assignment page!\n"
     ]
    }
   ],
   "source": [
    "# you can make submission with answers so far to check yourself at this stage\n",
    "grader.submit(COURSERA_EMAIL, COURSERA_TOKEN)"
   ]
  },
  {
   "cell_type": "code",
   "execution_count": null,
   "metadata": {
    "collapsed": true
   },
   "outputs": [],
   "source": []
  }
 ],
 "metadata": {
  "kernelspec": {
   "display_name": "Python 3",
   "language": "python",
   "name": "python3"
  },
  "language_info": {
   "codemirror_mode": {
    "name": "ipython",
    "version": 3
   },
   "file_extension": ".py",
   "mimetype": "text/x-python",
   "name": "python",
   "nbconvert_exporter": "python",
   "pygments_lexer": "ipython3",
   "version": "3.6.2"
  }
 },
 "nbformat": 4,
 "nbformat_minor": 1
}
